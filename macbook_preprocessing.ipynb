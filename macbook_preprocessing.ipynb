{
  "nbformat": 4,
  "nbformat_minor": 0,
  "metadata": {
    "colab": {
      "provenance": [],
      "gpuType": "T4",
      "include_colab_link": true
    },
    "kernelspec": {
      "name": "python3",
      "display_name": "Python 3"
    },
    "language_info": {
      "name": "python"
    },
    "accelerator": "GPU"
  },
  "cells": [
    {
      "cell_type": "markdown",
      "metadata": {
        "id": "view-in-github",
        "colab_type": "text"
      },
      "source": [
        "<a href=\"https://colab.research.google.com/github/zaraaa12/BigData/blob/main/macbook_preprocessing.ipynb\" target=\"_parent\"><img src=\"https://colab.research.google.com/assets/colab-badge.svg\" alt=\"Open In Colab\"/></a>"
      ]
    },
    {
      "cell_type": "code",
      "execution_count": 4,
      "metadata": {
        "id": "JjzoaQoBfVyx"
      },
      "outputs": [],
      "source": [
        "from pyspark.sql import SparkSession\n",
        "spark = SparkSession.builder.appName('MacBook').getOrCreate()\n"
      ]
    },
    {
      "cell_type": "code",
      "source": [
        "df = spark.read.csv('/content/Data_Sales_MacBook.csv', header = True, inferSchema = True)\n",
        "df.show(100)"
      ],
      "metadata": {
        "id": "xpReHf4ifhwE",
        "colab": {
          "base_uri": "https://localhost:8080/"
        },
        "outputId": "217b000c-5cf9-4eee-fda3-9e844b9c6f81"
      },
      "execution_count": 5,
      "outputs": [
        {
          "output_type": "stream",
          "name": "stdout",
          "text": [
            "+------+-----------------+-------------+----------+--------------------+--------------------+\n",
            "|Rating|         Location|         Sold|     Price|                URLs|        Product_Name|\n",
            "+------+-----------------+-------------+----------+--------------------+--------------------+\n",
            "|  NULL|            Bogor|         NULL| 1.500.000|https://shopee.co...|Macbook Air M1 20...|\n",
            "|   5.0|    Jakarta Pusat|    9 Terjual| 6.100.000|https://shopee.co...|MacBook Air  2020...|\n",
            "|   5.0|  Jakarta Selatan|1,6RB Terjual|12.499.000|https://shopee.co...|MacBook Air 13 in...|\n",
            "|   4.3|           Bekasi|   14 Terjual|12.499.000|https://shopee.co...|Apple MacBook Air...|\n",
            "|   3.0|           Bekasi|   10 Terjual|17.499.000|https://shopee.co...|Apple MacBook Air...|\n",
            "|  NULL|           Bekasi|    1 Terjual|18.999.000|https://shopee.co...|Apple Macbook Air...|\n",
            "|   5.0|           Bekasi|    2 Terjual|22.499.000|https://shopee.co...|Apple Macbook Air...|\n",
            "|   5.0|    Jakarta Pusat|   13 Terjual| 7.200.000|https://shopee.co...|Macbook Pro  2020...|\n",
            "|   5.0|  Jakarta Selatan|    9 Terjual|20.499.000|https://shopee.co...|Macbook Air 13 in...|\n",
            "|   5.0|  Jakarta Selatan|   20 Terjual|18.999.000|https://shopee.co...|Macbook Air 15 in...|\n",
            "|   5.0|  Jakarta Selatan|   10 Terjual|23.499.000|https://shopee.co...|Macbook Air 15 in...|\n",
            "|   5.0|  Jakarta Selatan|    5 Terjual| 8.700.000|https://shopee.co...|Apple Macbook Air...|\n",
            "|  NULL|     Kab. Cirebon|         NULL| 7.500.000|https://shopee.co...|Apple Macbook Air...|\n",
            "|   5.0|    Jakarta Pusat|    2 Terjual|10.493.000|https://shopee.co...|MacBook Air M1 Ch...|\n",
            "|  NULL|    Jakarta Pusat|         NULL| 7.500.000|https://shopee.co...|macbook air m1 20...|\n",
            "|  NULL|     Kab. Cirebon|         NULL| 8.899.000|https://shopee.co...|Apple Macbook Air...|\n",
            "|   4.7|    Jakarta Barat|  149 Terjual| 3.500.000|https://shopee.co...|OBRAL MAC AIR RET...|\n",
            "|   5.0|           Bekasi|    5 Terjual| 8.300.000|https://shopee.co...|Macbook Air M1 13...|\n",
            "|  NULL|             NULL|         NULL|      NULL|                NULL|                NULL|\n",
            "|  NULL|             NULL|         NULL|      NULL|                NULL|                NULL|\n",
            "|  NULL|      Kab. Sleman|         NULL| 7.500.000|https://shopee.co...|Macbook Air M1 Mu...|\n",
            "|  NULL| Surakarta (Solo)|         NULL|10.500.000|https://shopee.co...|MACBOOK AIR M1 20...|\n",
            "|  NULL|    Jakarta Barat|    1 Terjual| 6.200.000|https://shopee.co...|Mac Mini M4 16+25...|\n",
            "|  NULL|             NULL|         NULL|      NULL|                NULL|                NULL|\n",
            "|  NULL|             NULL|         NULL|      NULL|                NULL|                NULL|\n",
            "|  NULL|      Kab. Sleman|    1 Terjual| 8.800.000|https://shopee.co...|MacBook Air 13 In...|\n",
            "|  NULL|    Jakarta Pusat|         NULL| 8.100.000|https://shopee.co...|Macbook Air M1 20...|\n",
            "|   5.0|      Kab. Sleman|   13 Terjual| 7.000.000|https://shopee.co...|MACBOOK AIR RETIN...|\n",
            "|  NULL|             NULL|         NULL|      NULL|                NULL|                NULL|\n",
            "|  NULL|             NULL|         NULL|      NULL|                NULL|                NULL|\n",
            "|   5.0|           Bekasi|    6 Terjual| 9.000.000|https://shopee.co...|MacBook Air Retin...|\n",
            "|   4.8|  Jakarta Selatan|    8 Terjual| 8.999.000|https://shopee.co...|MACBOOK AIR M1 8/...|\n",
            "|   5.0|    Jakarta Pusat|    1 Terjual| 8.000.000|https://shopee.co...|Macbook Air 2020 ...|\n",
            "|  NULL|             NULL|         NULL|      NULL|                NULL|                NULL|\n",
            "|  NULL|             NULL|         NULL|      NULL|                NULL|                NULL|\n",
            "|  NULL|    Jakarta Pusat|         NULL| 7.400.000|https://shopee.co...|Apple MacBook Air...|\n",
            "|  NULL|    Jakarta Pusat|    3 Terjual| 8.000.000|https://shopee.co...|macbook air 2020 ...|\n",
            "|   5.0|    Jakarta Pusat|    3 Terjual| 4.700.000|https://shopee.co...|{FLASH SALE} MacB...|\n",
            "|  NULL|             NULL|         NULL|      NULL|                NULL|                NULL|\n",
            "|  NULL|             NULL|         NULL|      NULL|                NULL|                NULL|\n",
            "|   5.0|    Jakarta Utara|   26 Terjual|10.449.000|https://shopee.co...|RESMI AIR 13 M1 7...|\n",
            "|  NULL|    Jakarta Pusat|    2 Terjual| 5.200.000|https://shopee.co...|Macbook Air 2019 ...|\n",
            "|   4.9|    Jakarta Pusat|  139 Terjual| 2.000.000|https://shopee.co...|PROMO MacBook Air...|\n",
            "|  NULL|             NULL|         NULL|      NULL|                NULL|                NULL|\n",
            "|  NULL|             NULL|         NULL|      NULL|                NULL|                NULL|\n",
            "|   4.9|  Jakarta Selatan|  276 Terjual| 6.390.000|https://shopee.co...|Macbook Air M1 20...|\n",
            "|  NULL|    Jakarta Utara|         NULL| 6.700.000|https://shopee.co...|Jangan Rebutan Ma...|\n",
            "|  NULL|    Jakarta Utara|         NULL| 7.300.000|https://shopee.co...|Paketan 2 unit Ma...|\n",
            "|  NULL|             NULL|         NULL|      NULL|                NULL|                NULL|\n",
            "|  NULL|             NULL|         NULL|      NULL|                NULL|                NULL|\n",
            "|   4.9|    Jakarta Barat|  620 Terjual| 6.500.000|https://shopee.co...|\"Macbook Air 2020...|\n",
            "|   5.0|    Jakarta Pusat|  140 Terjual|14.920.000|https://shopee.co...|Λpple MacBook Air...|\n",
            "|  NULL|    Kab. Sidoarjo|         NULL| 8.550.000|https://shopee.co...|MacBook Air M1 Go...|\n",
            "|  NULL|             NULL|         NULL|      NULL|                NULL|                NULL|\n",
            "|  NULL|             NULL|         NULL|      NULL|                NULL|                NULL|\n",
            "|   5.0|         Semarang|    2 Terjual| 8.703.000|https://shopee.co...|Macbook Air 13 M1...|\n",
            "|  NULL|    Jakarta Utara|         NULL| 8.500.000|https://shopee.co...|Gerak Cepat Macbo...|\n",
            "|  NULL|    Jakarta Pusat|         NULL| 5.400.000|https://shopee.co...|MACBOOK AIR RETIN...|\n",
            "|  NULL|    Jakarta Pusat|         NULL| 4.510.500|https://shopee.co...|MacBook Air Retin...|\n",
            "|  NULL|    Jakarta Pusat|    2 Terjual| 4.700.000|https://shopee.co...|Macbook Retina 12...|\n",
            "|   5.0|          Bandung|    1 Terjual|10.699.000|https://shopee.co...|\"Laptop Apple Mac...|\n",
            "|  NULL|           Malang|    2 Terjual|11.279.000|https://shopee.co...|Macbook Air 2021 ...|\n",
            "|   5.0|    Jakarta Pusat|    3 Terjual| 4.700.000|https://shopee.co...|{FLASH SALE} MacB...|\n",
            "|   4.9|    Jakarta Pusat|  654 Terjual|10.488.000|https://shopee.co...|\"MacBook M1 | Mac...|\n",
            "|  NULL|           Cimahi|         NULL|11.967.000|https://shopee.co...|Apple MacBook Air...|\n",
            "|  NULL|    Jakarta Pusat|         NULL| 5.450.000|https://shopee.co...|macbook air retin...|\n",
            "|   5.0|    Jakarta Utara|  393 Terjual|10.654.000|https://shopee.co...|IBOX APPLE MACBOO...|\n",
            "|  NULL|    Jakarta Pusat|         NULL| 7.850.000|https://shopee.co...|macbook air retin...|\n",
            "|  NULL|            Depok|    1 Terjual|13.600.000|https://shopee.co...|Apple Macbook Pro...|\n",
            "|  NULL|    Jakarta Pusat|         NULL|10.787.000|https://shopee.co...|Apple MacBook Air...|\n",
            "|  NULL|    Jakarta Barat|    1 Terjual| 6.200.000|https://shopee.co...|Mac Mini M4 16+25...|\n",
            "|  NULL|          Bandung|         NULL|11.399.000|https://shopee.co...|Macbook Air M2 20...|\n",
            "|   5.0|        Tangerang|   44 Terjual|10.705.000|https://shopee.co...|IBOX APPLE MACBOO...|\n",
            "|  NULL|    Kab. Sidoarjo|         NULL| 8.950.000|https://shopee.co...|MacBook Air M1 iB...|\n",
            "|   5.0|Tangerang Selatan|   70 Terjual| 3.900.000|https://shopee.co...|Macbook Air 13inc...|\n",
            "|  NULL|             NULL|         NULL|      NULL|                NULL|                NULL|\n",
            "|  NULL|             NULL|         NULL|      NULL|                NULL|                NULL|\n",
            "|  NULL|             NULL|         NULL|      NULL|                NULL|                NULL|\n",
            "|  NULL|             NULL|         NULL|      NULL|                NULL|                NULL|\n",
            "|  NULL|             NULL|         NULL|      NULL|                NULL|                NULL|\n",
            "|  NULL|             NULL|         NULL|      NULL|                NULL|                NULL|\n",
            "|  NULL|             NULL|         NULL|      NULL|                NULL|                NULL|\n",
            "|  NULL|             NULL|         NULL|      NULL|                NULL|                NULL|\n",
            "|  NULL|             NULL|         NULL|      NULL|                NULL|                NULL|\n",
            "|  NULL|             NULL|         NULL|      NULL|                NULL|                NULL|\n",
            "|  NULL|             NULL|         NULL|      NULL|                NULL|                NULL|\n",
            "|  NULL|             NULL|         NULL|      NULL|                NULL|                NULL|\n",
            "|  NULL|             NULL|         NULL|      NULL|                NULL|                NULL|\n",
            "|  NULL|             NULL|         NULL|      NULL|                NULL|                NULL|\n",
            "|  NULL|             NULL|         NULL|      NULL|                NULL|                NULL|\n",
            "|  NULL|             NULL|         NULL|      NULL|                NULL|                NULL|\n",
            "|  NULL|             NULL|         NULL|      NULL|                NULL|                NULL|\n",
            "|  NULL|             NULL|         NULL|      NULL|                NULL|                NULL|\n",
            "|  NULL|             NULL|         NULL|      NULL|                NULL|                NULL|\n",
            "|  NULL|             NULL|         NULL|      NULL|                NULL|                NULL|\n",
            "|  NULL|             NULL|         NULL|      NULL|                NULL|                NULL|\n",
            "|  NULL|             NULL|         NULL|      NULL|                NULL|                NULL|\n",
            "|  NULL|             NULL|         NULL|      NULL|                NULL|                NULL|\n",
            "|  NULL|             NULL|         NULL|      NULL|                NULL|                NULL|\n",
            "|  NULL|             NULL|         NULL|      NULL|                NULL|                NULL|\n",
            "+------+-----------------+-------------+----------+--------------------+--------------------+\n",
            "only showing top 100 rows\n",
            "\n"
          ]
        }
      ]
    },
    {
      "cell_type": "code",
      "source": [
        "df_cleaned = df.dropDuplicates()\n",
        "df.show()"
      ],
      "metadata": {
        "id": "Ad9U0y_7gAiY",
        "colab": {
          "base_uri": "https://localhost:8080/"
        },
        "outputId": "9fb94121-cac1-4f15-c4c8-b12e8fdd1eee"
      },
      "execution_count": 6,
      "outputs": [
        {
          "output_type": "stream",
          "name": "stdout",
          "text": [
            "+------+---------------+-------------+----------+--------------------+--------------------+\n",
            "|Rating|       Location|         Sold|     Price|                URLs|        Product_Name|\n",
            "+------+---------------+-------------+----------+--------------------+--------------------+\n",
            "|  NULL|          Bogor|         NULL| 1.500.000|https://shopee.co...|Macbook Air M1 20...|\n",
            "|   5.0|  Jakarta Pusat|    9 Terjual| 6.100.000|https://shopee.co...|MacBook Air  2020...|\n",
            "|   5.0|Jakarta Selatan|1,6RB Terjual|12.499.000|https://shopee.co...|MacBook Air 13 in...|\n",
            "|   4.3|         Bekasi|   14 Terjual|12.499.000|https://shopee.co...|Apple MacBook Air...|\n",
            "|   3.0|         Bekasi|   10 Terjual|17.499.000|https://shopee.co...|Apple MacBook Air...|\n",
            "|  NULL|         Bekasi|    1 Terjual|18.999.000|https://shopee.co...|Apple Macbook Air...|\n",
            "|   5.0|         Bekasi|    2 Terjual|22.499.000|https://shopee.co...|Apple Macbook Air...|\n",
            "|   5.0|  Jakarta Pusat|   13 Terjual| 7.200.000|https://shopee.co...|Macbook Pro  2020...|\n",
            "|   5.0|Jakarta Selatan|    9 Terjual|20.499.000|https://shopee.co...|Macbook Air 13 in...|\n",
            "|   5.0|Jakarta Selatan|   20 Terjual|18.999.000|https://shopee.co...|Macbook Air 15 in...|\n",
            "|   5.0|Jakarta Selatan|   10 Terjual|23.499.000|https://shopee.co...|Macbook Air 15 in...|\n",
            "|   5.0|Jakarta Selatan|    5 Terjual| 8.700.000|https://shopee.co...|Apple Macbook Air...|\n",
            "|  NULL|   Kab. Cirebon|         NULL| 7.500.000|https://shopee.co...|Apple Macbook Air...|\n",
            "|   5.0|  Jakarta Pusat|    2 Terjual|10.493.000|https://shopee.co...|MacBook Air M1 Ch...|\n",
            "|  NULL|  Jakarta Pusat|         NULL| 7.500.000|https://shopee.co...|macbook air m1 20...|\n",
            "|  NULL|   Kab. Cirebon|         NULL| 8.899.000|https://shopee.co...|Apple Macbook Air...|\n",
            "|   4.7|  Jakarta Barat|  149 Terjual| 3.500.000|https://shopee.co...|OBRAL MAC AIR RET...|\n",
            "|   5.0|         Bekasi|    5 Terjual| 8.300.000|https://shopee.co...|Macbook Air M1 13...|\n",
            "|  NULL|           NULL|         NULL|      NULL|                NULL|                NULL|\n",
            "|  NULL|           NULL|         NULL|      NULL|                NULL|                NULL|\n",
            "+------+---------------+-------------+----------+--------------------+--------------------+\n",
            "only showing top 20 rows\n",
            "\n"
          ]
        }
      ]
    },
    {
      "cell_type": "code",
      "source": [
        "df_cleaned = df_cleaned.na.drop()\n",
        "df_cleaned.show(100)"
      ],
      "metadata": {
        "id": "4L7ZT3CugRRd",
        "colab": {
          "base_uri": "https://localhost:8080/"
        },
        "outputId": "608e8068-2c16-4a99-edc2-0385cd319aa3"
      },
      "execution_count": 7,
      "outputs": [
        {
          "output_type": "stream",
          "name": "stdout",
          "text": [
            "+------+-----------------+-------------+----------+--------------------+--------------------+\n",
            "|Rating|         Location|         Sold|     Price|                URLs|        Product_Name|\n",
            "+------+-----------------+-------------+----------+--------------------+--------------------+\n",
            "|   4.9|    Jakarta Pusat|  654 Terjual|10.488.000|https://shopee.co...|\"MacBook M1 | Mac...|\n",
            "|   5.0|         Semarang|    2 Terjual| 8.703.000|https://shopee.co...|Macbook Air 13 M1...|\n",
            "|   5.0|          Bandung|    5 Terjual|10.699.000|https://shopee.co...|\"Macbook Air M1 8...|\n",
            "|   5.0|      Kab. Sleman|    1 Terjual|10.699.000|https://shopee.co...|Macbook Air M1 8/...|\n",
            "|   5.0|    Jakarta Timur|    1 Terjual| 9.000.000|https://shopee.co...|[PRELOVED] MacBoo...|\n",
            "|   5.0|         Surabaya|   64 Terjual| 6.000.000|https://shopee.co...|Macbook Pro M1 Ch...|\n",
            "|   5.0|  Jakarta Selatan|   10 Terjual|23.499.000|https://shopee.co...|Macbook Air 15 in...|\n",
            "|   5.0|    Jakarta Utara|  393 Terjual|10.654.000|https://shopee.co...|IBOX APPLE MACBOO...|\n",
            "|   5.0|            Depok|   15 Terjual| 8.940.000|https://shopee.co...|MacBook Air M1 Ch...|\n",
            "|   5.0|          Bandung|   10 Terjual| 8.950.000|https://shopee.co...|MacBook Pro 2020 ...|\n",
            "|   5.0|    Jakarta Pusat|    1 Terjual| 8.000.000|https://shopee.co...|Macbook Air 2020 ...|\n",
            "|   4.9|Tangerang Selatan|   21 Terjual| 5.950.000|https://shopee.co...|Macbook Air 13inc...|\n",
            "|   5.0|      Kab. Sleman|   13 Terjual| 7.000.000|https://shopee.co...|MACBOOK AIR RETIN...|\n",
            "|   5.0|    Kab. Karawang|    2 Terjual|16.866.000|https://shopee.co...|Ibox Apple MacBoo...|\n",
            "|   5.0|      Kab. Sleman|    3 Terjual| 7.500.000|https://shopee.co...|MACBOOK AIR RETIN...|\n",
            "|   5.0|           Bekasi|    5 Terjual| 8.300.000|https://shopee.co...|Macbook Air M1 13...|\n",
            "|   5.0|   Kab. Tangerang|   29 Terjual| 5.035.000|https://shopee.co...|Macbook Air 2020 ...|\n",
            "|   4.9|  Jakarta Selatan|   72 Terjual| 6.199.000|https://shopee.co...|\"Macbook Air 2020...|\n",
            "|   4.7|    Jakarta Barat|  149 Terjual| 3.500.000|https://shopee.co...|OBRAL MAC AIR RET...|\n",
            "|   5.0|      Kab. Sleman|    2 Terjual| 6.688.000|https://shopee.co...|\"MACBOOK AIR 13\"\"...|\n",
            "|   5.0|    Jakarta Timur|    1 Terjual|10.856.000|https://shopee.co...|Ibox Apple MacBoo...|\n",
            "|   5.0|         Surabaya|   14 Terjual| 6.550.000|https://shopee.co...|Macbook Pro M1 Ch...|\n",
            "|   4.8|        Tangerang|   72 Terjual| 1.699.000|https://shopee.co...|Apple Laptop Beka...|\n",
            "|   5.0|           Malang|    1 Terjual| 7.000.000|https://shopee.co...|Apple Mac Mini M1...|\n",
            "|   5.0|    Jakarta Barat|    2 Terjual|12.300.000|https://shopee.co...|OBRALL LAPTOP MAC...|\n",
            "|   5.0|  Jakarta Selatan|    6 Terjual|10.654.000|https://shopee.co...|MacBook Air M1 20...|\n",
            "|   4.9|  Jakarta Selatan|  276 Terjual| 6.390.000|https://shopee.co...|Macbook Air M1 20...|\n",
            "|   5.0|  Jakarta Selatan|    5 Terjual| 8.700.000|https://shopee.co...|Apple Macbook Air...|\n",
            "|   5.0|    Jakarta Pusat|    1 Terjual| 8.690.000|https://shopee.co...|Macbook Air M1 Ch...|\n",
            "|   5.0|          Bandung|    1 Terjual|10.699.000|https://shopee.co...|\"Laptop Apple Mac...|\n",
            "|   3.0|           Bekasi|   10 Terjual|17.499.000|https://shopee.co...|Apple MacBook Air...|\n",
            "|   5.0|    Jakarta Pusat|   13 Terjual| 7.200.000|https://shopee.co...|Macbook Pro  2020...|\n",
            "|   5.0|         Surabaya|    1 Terjual|18.400.000|https://shopee.co...|Macbook M1 Pro 14...|\n",
            "|   5.0|  Jakarta Selatan|   30 Terjual| 8.151.000|https://shopee.co...|MacBook Air M1 Se...|\n",
            "|   4.8|         Surabaya|   19 Terjual| 6.380.000|https://shopee.co...|Macbook Pro Retin...|\n",
            "|   5.0|    Jakarta Utara|  486 Terjual|13.850.000|https://shopee.co...|New Ibox Laptopp ...|\n",
            "|   5.0|         Semarang|    2 Terjual| 9.450.000|https://shopee.co...|\"Macbook Air 2020...|\n",
            "|   5.0|          Bandung|   13 Terjual| 7.000.000|https://shopee.co...|Macbook Air M1 20...|\n",
            "|   4.5|           Bekasi|    6 Terjual| 7.150.000|https://shopee.co...|Promo MacBook Air...|\n",
            "|   5.0|  Jakarta Selatan|1,6RB Terjual|12.499.000|https://shopee.co...|MacBook Air 13 in...|\n",
            "|   4.9|    Jakarta Utara|  364 Terjual|    80.000|https://shopee.co...|Apple MacBook FUL...|\n",
            "|   5.0|      Kab. Sleman|    5 Terjual| 5.820.000|https://shopee.co...|Macbook Air 13 20...|\n",
            "|   5.0|  Jakarta Selatan|   20 Terjual|18.999.000|https://shopee.co...|Macbook Air 15 in...|\n",
            "|   5.0|        Tangerang|   11 Terjual| 8.199.000|https://shopee.co...|\"MacBook Air 2020...|\n",
            "|   5.0|           Bekasi|    6 Terjual| 9.000.000|https://shopee.co...|MacBook Air Retin...|\n",
            "|   4.9|        Tangerang|   62 Terjual|14.139.000|https://shopee.co...|IBOX APPLE MACBOO...|\n",
            "|   5.0|    Jakarta Pusat|    9 Terjual| 6.100.000|https://shopee.co...|MacBook Air  2020...|\n",
            "|   4.9|  Jakarta Selatan|   36 Terjual| 5.780.000|https://shopee.co...|Macbook Air 13 in...|\n",
            "|   5.0|    Jakarta Pusat|    2 Terjual|10.493.000|https://shopee.co...|MacBook Air M1 Ch...|\n",
            "|   5.0|    Jakarta Pusat|  140 Terjual|14.920.000|https://shopee.co...|Λpple MacBook Air...|\n",
            "|   5.0|        Tangerang|    3 Terjual| 6.799.000|https://shopee.co...|\"MacBook Pro 2018...|\n",
            "|   4.9|      Kab. Sleman|   98 Terjual| 8.703.000|https://shopee.co...|Macbook Air Retin...|\n",
            "|   4.5|           Bekasi|    6 Terjual| 7.150.000|https://shopee.co...|Promo MacBook Air...|\n",
            "|   4.9|         Makassar|   17 Terjual|11.232.900|https://shopee.co...|MACBOOK AIR 2020 ...|\n",
            "|   5.0|        Tangerang|   44 Terjual|10.705.000|https://shopee.co...|IBOX APPLE MACBOO...|\n",
            "|   5.0|    Jakarta Pusat|    3 Terjual| 4.700.000|https://shopee.co...|{FLASH SALE} MacB...|\n",
            "|   4.9|    Jakarta Pusat|  139 Terjual| 2.000.000|https://shopee.co...|PROMO MacBook Air...|\n",
            "|   5.0|  Jakarta Selatan|    9 Terjual|20.499.000|https://shopee.co...|Macbook Air 13 in...|\n",
            "|   5.0|        Tangerang|   15 Terjual| 6.199.000|https://shopee.co...|\"MacBook Air 2020...|\n",
            "|   5.0|        Pekanbaru|    5 Terjual|13.180.000|https://shopee.co...|\"MACBOOK AIR M1 1...|\n",
            "|   4.9|    Jakarta Pusat|  166 Terjual|10.388.000|https://shopee.co...|[ IBOX ] 𝗔𝗽𝗽𝗹...|\n",
            "|   5.0|           Bekasi|    2 Terjual|22.499.000|https://shopee.co...|Apple Macbook Air...|\n",
            "|   4.0|        Pontianak|    1 Terjual|11.999.000|https://shopee.co...|Macbook Air M1 8G...|\n",
            "|   4.9|    Jakarta Utara|  2RB Terjual|   159.500|https://shopee.co...|Premium Macbook C...|\n",
            "|   5.0|    Jakarta Utara|   26 Terjual|10.449.000|https://shopee.co...|RESMI AIR 13 M1 7...|\n",
            "|   4.9|           Bekasi|   11 Terjual| 9.200.000|https://shopee.co...|MacBook Air Retin...|\n",
            "|   4.3|           Bekasi|   14 Terjual|12.499.000|https://shopee.co...|Apple MacBook Air...|\n",
            "|   5.0|    Jakarta Utara|   91 Terjual|11.465.000|https://shopee.co...|\"NEW | Apple MacB...|\n",
            "|   4.9|    Jakarta Barat|  620 Terjual| 6.500.000|https://shopee.co...|\"Macbook Air 2020...|\n",
            "|   5.0|  Jakarta Selatan|    1 Terjual|21.999.000|https://shopee.co...|\"MacBook Pro 2021...|\n",
            "|   4.7|    Jakarta Utara|    7 Terjual|10.449.000|https://shopee.co...|\"MacBook Air 13 M...|\n",
            "|   5.0|          Bandung|    7 Terjual|10.699.000|https://shopee.co...|Laptop MacBook Ai...|\n",
            "|   4.8|  Jakarta Selatan|    8 Terjual| 8.999.000|https://shopee.co...|MACBOOK AIR M1 8/...|\n",
            "|   5.0|Tangerang Selatan|   70 Terjual| 3.900.000|https://shopee.co...|Macbook Air 13inc...|\n",
            "|   5.0|   Kab. Tangerang|   29 Terjual| 5.035.000|https://shopee.co...|Macbook Air 2020 ...|\n",
            "|   5.0|    Jakarta Pusat|    3 Terjual| 4.700.000|https://shopee.co...|{FLASH SALE} MacB...|\n",
            "|   4.9|    Jakarta Pusat|   55 Terjual|14.191.000|https://shopee.co...|MacBook Air M2 20...|\n",
            "|   4.7|    Jakarta Pusat|   40 Terjual| 7.900.000|https://shopee.co...|macbook air retin...|\n",
            "|   5.0|     Kab. Cirebon|   63 Terjual|11.999.000|https://shopee.co...|APPLE MacBook Air...|\n",
            "+------+-----------------+-------------+----------+--------------------+--------------------+\n",
            "\n"
          ]
        }
      ]
    },
    {
      "cell_type": "code",
      "source": [
        "from os import truncate\n",
        "from pyspark.sql.functions import regexp_replace, when, col\n",
        "\n",
        "df_cleaned = df_cleaned.withColumn(\n",
        "    \"Sold\",\n",
        "    regexp_replace(col(\"Sold\"), r\"(\\s*Terjual|\\+)\", \"\")  # hapus \"Terjual\" dan \"+\"\n",
        ")\n",
        "\n",
        "# Step 2: Tangani \"RB\"\n",
        "df_cleaned = df_cleaned.withColumn(\n",
        "    \"Sold\",\n",
        "    when(\n",
        "        col(\"Sold\").rlike(r\"(?i)RB\"),  # jika ada RB\n",
        "        regexp_replace(col(\"Sold\"), r\"(?i)RB\", \"\")\n",
        "        .cast(\"float\") * 1000\n",
        "    ).otherwise(\n",
        "        col(\"Sold\").cast(\"int\")  # jika tidak ada RB\n",
        "    )\n",
        ")\n",
        "\n",
        "\n",
        "df_cleaned = df_cleaned.withColumn(\n",
        "    \"Price\",\n",
        "    regexp_replace(col(\"Price\"), r\"\\.\", \"\").cast(\"int\")\n",
        ")\n",
        "\n",
        "df_cleaned.show(100)"
      ],
      "metadata": {
        "id": "e7USwj5Dqj_D",
        "colab": {
          "base_uri": "https://localhost:8080/"
        },
        "outputId": "0be9daf4-3363-47f6-8da2-b87efaa415a9"
      },
      "execution_count": 8,
      "outputs": [
        {
          "output_type": "stream",
          "name": "stdout",
          "text": [
            "+------+-----------------+------+--------+--------------------+--------------------+\n",
            "|Rating|         Location|  Sold|   Price|                URLs|        Product_Name|\n",
            "+------+-----------------+------+--------+--------------------+--------------------+\n",
            "|   4.9|    Jakarta Pusat| 654.0|10488000|https://shopee.co...|\"MacBook M1 | Mac...|\n",
            "|   5.0|         Semarang|   2.0| 8703000|https://shopee.co...|Macbook Air 13 M1...|\n",
            "|   5.0|          Bandung|   5.0|10699000|https://shopee.co...|\"Macbook Air M1 8...|\n",
            "|   5.0|      Kab. Sleman|   1.0|10699000|https://shopee.co...|Macbook Air M1 8/...|\n",
            "|   5.0|    Jakarta Timur|   1.0| 9000000|https://shopee.co...|[PRELOVED] MacBoo...|\n",
            "|   5.0|         Surabaya|  64.0| 6000000|https://shopee.co...|Macbook Pro M1 Ch...|\n",
            "|   5.0|  Jakarta Selatan|  10.0|23499000|https://shopee.co...|Macbook Air 15 in...|\n",
            "|   5.0|    Jakarta Utara| 393.0|10654000|https://shopee.co...|IBOX APPLE MACBOO...|\n",
            "|   5.0|            Depok|  15.0| 8940000|https://shopee.co...|MacBook Air M1 Ch...|\n",
            "|   5.0|          Bandung|  10.0| 8950000|https://shopee.co...|MacBook Pro 2020 ...|\n",
            "|   5.0|    Jakarta Pusat|   1.0| 8000000|https://shopee.co...|Macbook Air 2020 ...|\n",
            "|   4.9|Tangerang Selatan|  21.0| 5950000|https://shopee.co...|Macbook Air 13inc...|\n",
            "|   5.0|      Kab. Sleman|  13.0| 7000000|https://shopee.co...|MACBOOK AIR RETIN...|\n",
            "|   5.0|    Kab. Karawang|   2.0|16866000|https://shopee.co...|Ibox Apple MacBoo...|\n",
            "|   5.0|      Kab. Sleman|   3.0| 7500000|https://shopee.co...|MACBOOK AIR RETIN...|\n",
            "|   5.0|           Bekasi|   5.0| 8300000|https://shopee.co...|Macbook Air M1 13...|\n",
            "|   5.0|   Kab. Tangerang|  29.0| 5035000|https://shopee.co...|Macbook Air 2020 ...|\n",
            "|   4.9|  Jakarta Selatan|  72.0| 6199000|https://shopee.co...|\"Macbook Air 2020...|\n",
            "|   4.7|    Jakarta Barat| 149.0| 3500000|https://shopee.co...|OBRAL MAC AIR RET...|\n",
            "|   5.0|      Kab. Sleman|   2.0| 6688000|https://shopee.co...|\"MACBOOK AIR 13\"\"...|\n",
            "|   5.0|    Jakarta Timur|   1.0|10856000|https://shopee.co...|Ibox Apple MacBoo...|\n",
            "|   5.0|         Surabaya|  14.0| 6550000|https://shopee.co...|Macbook Pro M1 Ch...|\n",
            "|   4.8|        Tangerang|  72.0| 1699000|https://shopee.co...|Apple Laptop Beka...|\n",
            "|   5.0|           Malang|   1.0| 7000000|https://shopee.co...|Apple Mac Mini M1...|\n",
            "|   5.0|    Jakarta Barat|   2.0|12300000|https://shopee.co...|OBRALL LAPTOP MAC...|\n",
            "|   5.0|  Jakarta Selatan|   6.0|10654000|https://shopee.co...|MacBook Air M1 20...|\n",
            "|   4.9|  Jakarta Selatan| 276.0| 6390000|https://shopee.co...|Macbook Air M1 20...|\n",
            "|   5.0|  Jakarta Selatan|   5.0| 8700000|https://shopee.co...|Apple Macbook Air...|\n",
            "|   5.0|    Jakarta Pusat|   1.0| 8690000|https://shopee.co...|Macbook Air M1 Ch...|\n",
            "|   5.0|          Bandung|   1.0|10699000|https://shopee.co...|\"Laptop Apple Mac...|\n",
            "|   3.0|           Bekasi|  10.0|17499000|https://shopee.co...|Apple MacBook Air...|\n",
            "|   5.0|    Jakarta Pusat|  13.0| 7200000|https://shopee.co...|Macbook Pro  2020...|\n",
            "|   5.0|         Surabaya|   1.0|18400000|https://shopee.co...|Macbook M1 Pro 14...|\n",
            "|   5.0|  Jakarta Selatan|  30.0| 8151000|https://shopee.co...|MacBook Air M1 Se...|\n",
            "|   4.8|         Surabaya|  19.0| 6380000|https://shopee.co...|Macbook Pro Retin...|\n",
            "|   5.0|    Jakarta Utara| 486.0|13850000|https://shopee.co...|New Ibox Laptopp ...|\n",
            "|   5.0|         Semarang|   2.0| 9450000|https://shopee.co...|\"Macbook Air 2020...|\n",
            "|   5.0|          Bandung|  13.0| 7000000|https://shopee.co...|Macbook Air M1 20...|\n",
            "|   4.5|           Bekasi|   6.0| 7150000|https://shopee.co...|Promo MacBook Air...|\n",
            "|   5.0|  Jakarta Selatan|  NULL|12499000|https://shopee.co...|MacBook Air 13 in...|\n",
            "|   4.9|    Jakarta Utara| 364.0|   80000|https://shopee.co...|Apple MacBook FUL...|\n",
            "|   5.0|      Kab. Sleman|   5.0| 5820000|https://shopee.co...|Macbook Air 13 20...|\n",
            "|   5.0|  Jakarta Selatan|  20.0|18999000|https://shopee.co...|Macbook Air 15 in...|\n",
            "|   5.0|        Tangerang|  11.0| 8199000|https://shopee.co...|\"MacBook Air 2020...|\n",
            "|   5.0|           Bekasi|   6.0| 9000000|https://shopee.co...|MacBook Air Retin...|\n",
            "|   4.9|        Tangerang|  62.0|14139000|https://shopee.co...|IBOX APPLE MACBOO...|\n",
            "|   5.0|    Jakarta Pusat|   9.0| 6100000|https://shopee.co...|MacBook Air  2020...|\n",
            "|   4.9|  Jakarta Selatan|  36.0| 5780000|https://shopee.co...|Macbook Air 13 in...|\n",
            "|   5.0|    Jakarta Pusat|   2.0|10493000|https://shopee.co...|MacBook Air M1 Ch...|\n",
            "|   5.0|    Jakarta Pusat| 140.0|14920000|https://shopee.co...|Λpple MacBook Air...|\n",
            "|   5.0|        Tangerang|   3.0| 6799000|https://shopee.co...|\"MacBook Pro 2018...|\n",
            "|   4.9|      Kab. Sleman|  98.0| 8703000|https://shopee.co...|Macbook Air Retin...|\n",
            "|   4.5|           Bekasi|   6.0| 7150000|https://shopee.co...|Promo MacBook Air...|\n",
            "|   4.9|         Makassar|  17.0|11232900|https://shopee.co...|MACBOOK AIR 2020 ...|\n",
            "|   5.0|        Tangerang|  44.0|10705000|https://shopee.co...|IBOX APPLE MACBOO...|\n",
            "|   5.0|    Jakarta Pusat|   3.0| 4700000|https://shopee.co...|{FLASH SALE} MacB...|\n",
            "|   4.9|    Jakarta Pusat| 139.0| 2000000|https://shopee.co...|PROMO MacBook Air...|\n",
            "|   5.0|  Jakarta Selatan|   9.0|20499000|https://shopee.co...|Macbook Air 13 in...|\n",
            "|   5.0|        Tangerang|  15.0| 6199000|https://shopee.co...|\"MacBook Air 2020...|\n",
            "|   5.0|        Pekanbaru|   5.0|13180000|https://shopee.co...|\"MACBOOK AIR M1 1...|\n",
            "|   4.9|    Jakarta Pusat| 166.0|10388000|https://shopee.co...|[ IBOX ] 𝗔𝗽𝗽𝗹...|\n",
            "|   5.0|           Bekasi|   2.0|22499000|https://shopee.co...|Apple Macbook Air...|\n",
            "|   4.0|        Pontianak|   1.0|11999000|https://shopee.co...|Macbook Air M1 8G...|\n",
            "|   4.9|    Jakarta Utara|2000.0|  159500|https://shopee.co...|Premium Macbook C...|\n",
            "|   5.0|    Jakarta Utara|  26.0|10449000|https://shopee.co...|RESMI AIR 13 M1 7...|\n",
            "|   4.9|           Bekasi|  11.0| 9200000|https://shopee.co...|MacBook Air Retin...|\n",
            "|   4.3|           Bekasi|  14.0|12499000|https://shopee.co...|Apple MacBook Air...|\n",
            "|   5.0|    Jakarta Utara|  91.0|11465000|https://shopee.co...|\"NEW | Apple MacB...|\n",
            "|   4.9|    Jakarta Barat| 620.0| 6500000|https://shopee.co...|\"Macbook Air 2020...|\n",
            "|   5.0|  Jakarta Selatan|   1.0|21999000|https://shopee.co...|\"MacBook Pro 2021...|\n",
            "|   4.7|    Jakarta Utara|   7.0|10449000|https://shopee.co...|\"MacBook Air 13 M...|\n",
            "|   5.0|          Bandung|   7.0|10699000|https://shopee.co...|Laptop MacBook Ai...|\n",
            "|   4.8|  Jakarta Selatan|   8.0| 8999000|https://shopee.co...|MACBOOK AIR M1 8/...|\n",
            "|   5.0|Tangerang Selatan|  70.0| 3900000|https://shopee.co...|Macbook Air 13inc...|\n",
            "|   5.0|   Kab. Tangerang|  29.0| 5035000|https://shopee.co...|Macbook Air 2020 ...|\n",
            "|   5.0|    Jakarta Pusat|   3.0| 4700000|https://shopee.co...|{FLASH SALE} MacB...|\n",
            "|   4.9|    Jakarta Pusat|  55.0|14191000|https://shopee.co...|MacBook Air M2 20...|\n",
            "|   4.7|    Jakarta Pusat|  40.0| 7900000|https://shopee.co...|macbook air retin...|\n",
            "|   5.0|     Kab. Cirebon|  63.0|11999000|https://shopee.co...|APPLE MacBook Air...|\n",
            "+------+-----------------+------+--------+--------------------+--------------------+\n",
            "\n"
          ]
        }
      ]
    },
    {
      "cell_type": "code",
      "source": [
        "df_cleaned.show(100)"
      ],
      "metadata": {
        "id": "bMO-ENO0uCCb",
        "colab": {
          "base_uri": "https://localhost:8080/"
        },
        "outputId": "eb5ba08c-01ec-46c9-8d19-22947150c9fd"
      },
      "execution_count": 9,
      "outputs": [
        {
          "output_type": "stream",
          "name": "stdout",
          "text": [
            "+------+-----------------+------+--------+--------------------+--------------------+\n",
            "|Rating|         Location|  Sold|   Price|                URLs|        Product_Name|\n",
            "+------+-----------------+------+--------+--------------------+--------------------+\n",
            "|   4.9|    Jakarta Pusat| 654.0|10488000|https://shopee.co...|\"MacBook M1 | Mac...|\n",
            "|   5.0|         Semarang|   2.0| 8703000|https://shopee.co...|Macbook Air 13 M1...|\n",
            "|   5.0|          Bandung|   5.0|10699000|https://shopee.co...|\"Macbook Air M1 8...|\n",
            "|   5.0|      Kab. Sleman|   1.0|10699000|https://shopee.co...|Macbook Air M1 8/...|\n",
            "|   5.0|    Jakarta Timur|   1.0| 9000000|https://shopee.co...|[PRELOVED] MacBoo...|\n",
            "|   5.0|         Surabaya|  64.0| 6000000|https://shopee.co...|Macbook Pro M1 Ch...|\n",
            "|   5.0|  Jakarta Selatan|  10.0|23499000|https://shopee.co...|Macbook Air 15 in...|\n",
            "|   5.0|    Jakarta Utara| 393.0|10654000|https://shopee.co...|IBOX APPLE MACBOO...|\n",
            "|   5.0|            Depok|  15.0| 8940000|https://shopee.co...|MacBook Air M1 Ch...|\n",
            "|   5.0|          Bandung|  10.0| 8950000|https://shopee.co...|MacBook Pro 2020 ...|\n",
            "|   5.0|    Jakarta Pusat|   1.0| 8000000|https://shopee.co...|Macbook Air 2020 ...|\n",
            "|   4.9|Tangerang Selatan|  21.0| 5950000|https://shopee.co...|Macbook Air 13inc...|\n",
            "|   5.0|      Kab. Sleman|  13.0| 7000000|https://shopee.co...|MACBOOK AIR RETIN...|\n",
            "|   5.0|    Kab. Karawang|   2.0|16866000|https://shopee.co...|Ibox Apple MacBoo...|\n",
            "|   5.0|      Kab. Sleman|   3.0| 7500000|https://shopee.co...|MACBOOK AIR RETIN...|\n",
            "|   5.0|           Bekasi|   5.0| 8300000|https://shopee.co...|Macbook Air M1 13...|\n",
            "|   5.0|   Kab. Tangerang|  29.0| 5035000|https://shopee.co...|Macbook Air 2020 ...|\n",
            "|   4.9|  Jakarta Selatan|  72.0| 6199000|https://shopee.co...|\"Macbook Air 2020...|\n",
            "|   4.7|    Jakarta Barat| 149.0| 3500000|https://shopee.co...|OBRAL MAC AIR RET...|\n",
            "|   5.0|      Kab. Sleman|   2.0| 6688000|https://shopee.co...|\"MACBOOK AIR 13\"\"...|\n",
            "|   5.0|    Jakarta Timur|   1.0|10856000|https://shopee.co...|Ibox Apple MacBoo...|\n",
            "|   5.0|         Surabaya|  14.0| 6550000|https://shopee.co...|Macbook Pro M1 Ch...|\n",
            "|   4.8|        Tangerang|  72.0| 1699000|https://shopee.co...|Apple Laptop Beka...|\n",
            "|   5.0|           Malang|   1.0| 7000000|https://shopee.co...|Apple Mac Mini M1...|\n",
            "|   5.0|    Jakarta Barat|   2.0|12300000|https://shopee.co...|OBRALL LAPTOP MAC...|\n",
            "|   5.0|  Jakarta Selatan|   6.0|10654000|https://shopee.co...|MacBook Air M1 20...|\n",
            "|   4.9|  Jakarta Selatan| 276.0| 6390000|https://shopee.co...|Macbook Air M1 20...|\n",
            "|   5.0|  Jakarta Selatan|   5.0| 8700000|https://shopee.co...|Apple Macbook Air...|\n",
            "|   5.0|    Jakarta Pusat|   1.0| 8690000|https://shopee.co...|Macbook Air M1 Ch...|\n",
            "|   5.0|          Bandung|   1.0|10699000|https://shopee.co...|\"Laptop Apple Mac...|\n",
            "|   3.0|           Bekasi|  10.0|17499000|https://shopee.co...|Apple MacBook Air...|\n",
            "|   5.0|    Jakarta Pusat|  13.0| 7200000|https://shopee.co...|Macbook Pro  2020...|\n",
            "|   5.0|         Surabaya|   1.0|18400000|https://shopee.co...|Macbook M1 Pro 14...|\n",
            "|   5.0|  Jakarta Selatan|  30.0| 8151000|https://shopee.co...|MacBook Air M1 Se...|\n",
            "|   4.8|         Surabaya|  19.0| 6380000|https://shopee.co...|Macbook Pro Retin...|\n",
            "|   5.0|    Jakarta Utara| 486.0|13850000|https://shopee.co...|New Ibox Laptopp ...|\n",
            "|   5.0|         Semarang|   2.0| 9450000|https://shopee.co...|\"Macbook Air 2020...|\n",
            "|   5.0|          Bandung|  13.0| 7000000|https://shopee.co...|Macbook Air M1 20...|\n",
            "|   4.5|           Bekasi|   6.0| 7150000|https://shopee.co...|Promo MacBook Air...|\n",
            "|   5.0|  Jakarta Selatan|  NULL|12499000|https://shopee.co...|MacBook Air 13 in...|\n",
            "|   4.9|    Jakarta Utara| 364.0|   80000|https://shopee.co...|Apple MacBook FUL...|\n",
            "|   5.0|      Kab. Sleman|   5.0| 5820000|https://shopee.co...|Macbook Air 13 20...|\n",
            "|   5.0|  Jakarta Selatan|  20.0|18999000|https://shopee.co...|Macbook Air 15 in...|\n",
            "|   5.0|        Tangerang|  11.0| 8199000|https://shopee.co...|\"MacBook Air 2020...|\n",
            "|   5.0|           Bekasi|   6.0| 9000000|https://shopee.co...|MacBook Air Retin...|\n",
            "|   4.9|        Tangerang|  62.0|14139000|https://shopee.co...|IBOX APPLE MACBOO...|\n",
            "|   5.0|    Jakarta Pusat|   9.0| 6100000|https://shopee.co...|MacBook Air  2020...|\n",
            "|   4.9|  Jakarta Selatan|  36.0| 5780000|https://shopee.co...|Macbook Air 13 in...|\n",
            "|   5.0|    Jakarta Pusat|   2.0|10493000|https://shopee.co...|MacBook Air M1 Ch...|\n",
            "|   5.0|    Jakarta Pusat| 140.0|14920000|https://shopee.co...|Λpple MacBook Air...|\n",
            "|   5.0|        Tangerang|   3.0| 6799000|https://shopee.co...|\"MacBook Pro 2018...|\n",
            "|   4.9|      Kab. Sleman|  98.0| 8703000|https://shopee.co...|Macbook Air Retin...|\n",
            "|   4.5|           Bekasi|   6.0| 7150000|https://shopee.co...|Promo MacBook Air...|\n",
            "|   4.9|         Makassar|  17.0|11232900|https://shopee.co...|MACBOOK AIR 2020 ...|\n",
            "|   5.0|        Tangerang|  44.0|10705000|https://shopee.co...|IBOX APPLE MACBOO...|\n",
            "|   5.0|    Jakarta Pusat|   3.0| 4700000|https://shopee.co...|{FLASH SALE} MacB...|\n",
            "|   4.9|    Jakarta Pusat| 139.0| 2000000|https://shopee.co...|PROMO MacBook Air...|\n",
            "|   5.0|  Jakarta Selatan|   9.0|20499000|https://shopee.co...|Macbook Air 13 in...|\n",
            "|   5.0|        Tangerang|  15.0| 6199000|https://shopee.co...|\"MacBook Air 2020...|\n",
            "|   5.0|        Pekanbaru|   5.0|13180000|https://shopee.co...|\"MACBOOK AIR M1 1...|\n",
            "|   4.9|    Jakarta Pusat| 166.0|10388000|https://shopee.co...|[ IBOX ] 𝗔𝗽𝗽𝗹...|\n",
            "|   5.0|           Bekasi|   2.0|22499000|https://shopee.co...|Apple Macbook Air...|\n",
            "|   4.0|        Pontianak|   1.0|11999000|https://shopee.co...|Macbook Air M1 8G...|\n",
            "|   4.9|    Jakarta Utara|2000.0|  159500|https://shopee.co...|Premium Macbook C...|\n",
            "|   5.0|    Jakarta Utara|  26.0|10449000|https://shopee.co...|RESMI AIR 13 M1 7...|\n",
            "|   4.9|           Bekasi|  11.0| 9200000|https://shopee.co...|MacBook Air Retin...|\n",
            "|   4.3|           Bekasi|  14.0|12499000|https://shopee.co...|Apple MacBook Air...|\n",
            "|   5.0|    Jakarta Utara|  91.0|11465000|https://shopee.co...|\"NEW | Apple MacB...|\n",
            "|   4.9|    Jakarta Barat| 620.0| 6500000|https://shopee.co...|\"Macbook Air 2020...|\n",
            "|   5.0|  Jakarta Selatan|   1.0|21999000|https://shopee.co...|\"MacBook Pro 2021...|\n",
            "|   4.7|    Jakarta Utara|   7.0|10449000|https://shopee.co...|\"MacBook Air 13 M...|\n",
            "|   5.0|          Bandung|   7.0|10699000|https://shopee.co...|Laptop MacBook Ai...|\n",
            "|   4.8|  Jakarta Selatan|   8.0| 8999000|https://shopee.co...|MACBOOK AIR M1 8/...|\n",
            "|   5.0|Tangerang Selatan|  70.0| 3900000|https://shopee.co...|Macbook Air 13inc...|\n",
            "|   5.0|   Kab. Tangerang|  29.0| 5035000|https://shopee.co...|Macbook Air 2020 ...|\n",
            "|   5.0|    Jakarta Pusat|   3.0| 4700000|https://shopee.co...|{FLASH SALE} MacB...|\n",
            "|   4.9|    Jakarta Pusat|  55.0|14191000|https://shopee.co...|MacBook Air M2 20...|\n",
            "|   4.7|    Jakarta Pusat|  40.0| 7900000|https://shopee.co...|macbook air retin...|\n",
            "|   5.0|     Kab. Cirebon|  63.0|11999000|https://shopee.co...|APPLE MacBook Air...|\n",
            "+------+-----------------+------+--------+--------------------+--------------------+\n",
            "\n"
          ]
        }
      ]
    },
    {
      "cell_type": "code",
      "source": [
        "df_cleaned.describe(['Price', 'Sold']).show()"
      ],
      "metadata": {
        "id": "h_NlwwhSui9N",
        "colab": {
          "base_uri": "https://localhost:8080/"
        },
        "outputId": "dcc99711-a60d-44a5-d233-7e19ff9486ca"
      },
      "execution_count": 10,
      "outputs": [
        {
          "output_type": "stream",
          "name": "stdout",
          "text": [
            "+-------+-----------------+------------------+\n",
            "|summary|            Price|              Sold|\n",
            "+-------+-----------------+------------------+\n",
            "|  count|               79|                78|\n",
            "|   mean|9538156.962025316| 84.85897435897436|\n",
            "| stddev|4714535.502466965|254.78933107589728|\n",
            "|    min|            80000|               1.0|\n",
            "|    max|         23499000|            2000.0|\n",
            "+-------+-----------------+------------------+\n",
            "\n"
          ]
        }
      ]
    },
    {
      "cell_type": "code",
      "source": [
        "from pyspark.sql.functions import corr\n",
        "df_cleaned.select(corr('Price', 'Sold')).show()"
      ],
      "metadata": {
        "id": "peWkZfKKurgi",
        "colab": {
          "base_uri": "https://localhost:8080/"
        },
        "outputId": "24de7394-a50e-44b9-ef4a-2fd53fd24ba8"
      },
      "execution_count": 11,
      "outputs": [
        {
          "output_type": "stream",
          "name": "stdout",
          "text": [
            "+-------------------+\n",
            "|  corr(Price, Sold)|\n",
            "+-------------------+\n",
            "|-0.2528219677071286|\n",
            "+-------------------+\n",
            "\n"
          ]
        }
      ]
    },
    {
      "cell_type": "code",
      "source": [
        "from pyspark.sql.functions import sum\n",
        "\n",
        "df_cleaned.groupBy(\"Location\").agg(sum(\"Sold\").alias(\"Total_Sold\")) \\\n",
        "    .orderBy(\"Total_Sold\", ascending=False).show()"
      ],
      "metadata": {
        "id": "VY5zLeDwu2Sb",
        "colab": {
          "base_uri": "https://localhost:8080/"
        },
        "outputId": "835d208d-13ae-4f2a-f0c6-876833a3af38"
      },
      "execution_count": 12,
      "outputs": [
        {
          "output_type": "stream",
          "name": "stdout",
          "text": [
            "+-----------------+----------+\n",
            "|         Location|Total_Sold|\n",
            "+-----------------+----------+\n",
            "|    Jakarta Utara|    3367.0|\n",
            "|    Jakarta Pusat|    1226.0|\n",
            "|    Jakarta Barat|     771.0|\n",
            "|  Jakarta Selatan|     473.0|\n",
            "|        Tangerang|     207.0|\n",
            "|      Kab. Sleman|     122.0|\n",
            "|         Surabaya|      98.0|\n",
            "|Tangerang Selatan|      91.0|\n",
            "|     Kab. Cirebon|      63.0|\n",
            "|           Bekasi|      60.0|\n",
            "|   Kab. Tangerang|      58.0|\n",
            "|          Bandung|      36.0|\n",
            "|         Makassar|      17.0|\n",
            "|            Depok|      15.0|\n",
            "|        Pekanbaru|       5.0|\n",
            "|         Semarang|       4.0|\n",
            "|    Kab. Karawang|       2.0|\n",
            "|    Jakarta Timur|       2.0|\n",
            "|        Pontianak|       1.0|\n",
            "|           Malang|       1.0|\n",
            "+-----------------+----------+\n",
            "\n"
          ]
        }
      ]
    },
    {
      "cell_type": "code",
      "source": [
        "from pyspark.ml.feature import Tokenizer, StopWordsRemover, CountVectorizer\n",
        "\n",
        "tokenizer = Tokenizer(inputCol=\"Product_Name\", outputCol=\"words\")\n",
        "wordsData = tokenizer.transform(df_cleaned)\n",
        "\n",
        "remover = StopWordsRemover(inputCol=\"words\", outputCol=\"filtered\")\n",
        "filteredData = remover.transform(wordsData)\n",
        "\n",
        "vectorizer = CountVectorizer(inputCol=\"filtered\", outputCol=\"features\")\n",
        "model = vectorizer.fit(filteredData)\n",
        "result = model.transform(filteredData)\n",
        "\n",
        "# Tampilkan 10 kata yang paling sering muncul\n",
        "vocab = model.vocabulary\n",
        "frequencies = result.select(\"features\").rdd \\\n",
        "    .map(lambda row: row.features.toArray()) \\\n",
        "    .reduce(lambda x, y: x + y)\n",
        "\n",
        "for word, freq in sorted(zip(vocab, frequencies), key=lambda x: -x[1])[:10]:\n",
        "    print(word, int(freq))"
      ],
      "metadata": {
        "id": "pZ4VAjqBvKms",
        "colab": {
          "base_uri": "https://localhost:8080/"
        },
        "outputId": "db24d443-3968-4e06-f1e2-285b739df09c"
      },
      "execution_count": 13,
      "outputs": [
        {
          "output_type": "stream",
          "name": "stdout",
          "text": [
            "air 68\n",
            "macbook 67\n",
            "m1 52\n",
            "2020 39\n",
            "256gb 30\n",
            "13 28\n",
            "inch 24\n",
            "gb 23\n",
            "ssd 23\n",
            "second 20\n"
          ]
        }
      ]
    },
    {
      "cell_type": "code",
      "source": [
        "#tokenize\n",
        "from pyspark.ml.feature import Tokenizer\n",
        "\n",
        "tokenizer = Tokenizer(inputCol=\"Product_Name\", outputCol=\"items\")\n",
        "data_tokenized = tokenizer.transform(df_cleaned)"
      ],
      "metadata": {
        "id": "xL4Nxr5AxJij"
      },
      "execution_count": 14,
      "outputs": []
    },
    {
      "cell_type": "code",
      "source": [
        "from pyspark.ml.fpm import FPGrowth\n",
        "from pyspark.sql.functions import array_distinct\n",
        "\n",
        "# Apply array_distinct to the \"items\" column to remove duplicates\n",
        "data_tokenized_unique = data_tokenized.withColumn(\"items\", array_distinct(\"items\"))\n",
        "\n",
        "# Now, apply FPGrowth to the data with unique items\n",
        "fpGrowth = FPGrowth(itemsCol=\"items\", minSupport=0.01, minConfidence=0.3)\n",
        "model = fpGrowth.fit(data_tokenized_unique)"
      ],
      "metadata": {
        "id": "r228DCR2xSUR"
      },
      "execution_count": 15,
      "outputs": []
    },
    {
      "cell_type": "code",
      "source": [
        "model.freqItemsets.show(100, truncate=False)"
      ],
      "metadata": {
        "id": "mRZG7I8dxjTS",
        "colab": {
          "base_uri": "https://localhost:8080/"
        },
        "outputId": "bdbc6144-a74c-4b71-d284-e75651656936"
      },
      "execution_count": 16,
      "outputs": [
        {
          "output_type": "stream",
          "name": "stdout",
          "text": [
            "+----------------------------------------------------------+----+\n",
            "|items                                                     |freq|\n",
            "+----------------------------------------------------------+----+\n",
            "|[mgn63id]                                                 |1   |\n",
            "|[mgn63id, garansi]                                        |1   |\n",
            "|[mgn63id, garansi, gb]                                    |1   |\n",
            "|[mgn63id, garansi, gb, m1]                                |1   |\n",
            "|[mgn63id, garansi, gb, m1, macbook]                       |1   |\n",
            "|[mgn63id, garansi, gb, m1, macbook, air]                  |1   |\n",
            "|[mgn63id, garansi, gb, m1, air]                           |1   |\n",
            "|[mgn63id, garansi, gb, ssd]                               |1   |\n",
            "|[mgn63id, garansi, gb, ssd, m1]                           |1   |\n",
            "|[mgn63id, garansi, gb, ssd, m1, macbook]                  |1   |\n",
            "|[mgn63id, garansi, gb, ssd, m1, macbook, air]             |1   |\n",
            "|[mgn63id, garansi, gb, ssd, m1, air]                      |1   |\n",
            "|[mgn63id, garansi, gb, ssd, macbook]                      |1   |\n",
            "|[mgn63id, garansi, gb, ssd, macbook, air]                 |1   |\n",
            "|[mgn63id, garansi, gb, ssd, 2020]                         |1   |\n",
            "|[mgn63id, garansi, gb, ssd, 2020, m1]                     |1   |\n",
            "|[mgn63id, garansi, gb, ssd, 2020, m1, macbook]            |1   |\n",
            "|[mgn63id, garansi, gb, ssd, 2020, m1, macbook, air]       |1   |\n",
            "|[mgn63id, garansi, gb, ssd, 2020, m1, air]                |1   |\n",
            "|[mgn63id, garansi, gb, ssd, 2020, macbook]                |1   |\n",
            "|[mgn63id, garansi, gb, ssd, 2020, macbook, air]           |1   |\n",
            "|[mgn63id, garansi, gb, ssd, 2020, air]                    |1   |\n",
            "|[mgn63id, garansi, gb, ssd, air]                          |1   |\n",
            "|[mgn63id, garansi, gb, macbook]                           |1   |\n",
            "|[mgn63id, garansi, gb, macbook, air]                      |1   |\n",
            "|[mgn63id, garansi, gb, ram]                               |1   |\n",
            "|[mgn63id, garansi, gb, ram, m1]                           |1   |\n",
            "|[mgn63id, garansi, gb, ram, m1, macbook]                  |1   |\n",
            "|[mgn63id, garansi, gb, ram, m1, macbook, air]             |1   |\n",
            "|[mgn63id, garansi, gb, ram, m1, air]                      |1   |\n",
            "|[mgn63id, garansi, gb, ram, ssd]                          |1   |\n",
            "|[mgn63id, garansi, gb, ram, ssd, m1]                      |1   |\n",
            "|[mgn63id, garansi, gb, ram, ssd, m1, macbook]             |1   |\n",
            "|[mgn63id, garansi, gb, ram, ssd, m1, macbook, air]        |1   |\n",
            "|[mgn63id, garansi, gb, ram, ssd, m1, air]                 |1   |\n",
            "|[mgn63id, garansi, gb, ram, ssd, macbook]                 |1   |\n",
            "|[mgn63id, garansi, gb, ram, ssd, macbook, air]            |1   |\n",
            "|[mgn63id, garansi, gb, ram, ssd, 2020]                    |1   |\n",
            "|[mgn63id, garansi, gb, ram, ssd, 2020, m1]                |1   |\n",
            "|[mgn63id, garansi, gb, ram, ssd, 2020, m1, macbook]       |1   |\n",
            "|[mgn63id, garansi, gb, ram, ssd, 2020, m1, macbook, air]  |1   |\n",
            "|[mgn63id, garansi, gb, ram, ssd, 2020, m1, air]           |1   |\n",
            "|[mgn63id, garansi, gb, ram, ssd, 2020, macbook]           |1   |\n",
            "|[mgn63id, garansi, gb, ram, ssd, 2020, macbook, air]      |1   |\n",
            "|[mgn63id, garansi, gb, ram, ssd, 2020, air]               |1   |\n",
            "|[mgn63id, garansi, gb, ram, ssd, air]                     |1   |\n",
            "|[mgn63id, garansi, gb, ram, macbook]                      |1   |\n",
            "|[mgn63id, garansi, gb, ram, macbook, air]                 |1   |\n",
            "|[mgn63id, garansi, gb, ram, 2020]                         |1   |\n",
            "|[mgn63id, garansi, gb, ram, 2020, m1]                     |1   |\n",
            "|[mgn63id, garansi, gb, ram, 2020, m1, macbook]            |1   |\n",
            "|[mgn63id, garansi, gb, ram, 2020, m1, macbook, air]       |1   |\n",
            "|[mgn63id, garansi, gb, ram, 2020, m1, air]                |1   |\n",
            "|[mgn63id, garansi, gb, ram, 2020, macbook]                |1   |\n",
            "|[mgn63id, garansi, gb, ram, 2020, macbook, air]           |1   |\n",
            "|[mgn63id, garansi, gb, ram, 2020, air]                    |1   |\n",
            "|[mgn63id, garansi, gb, ram, air]                          |1   |\n",
            "|[mgn63id, garansi, gb, 2020]                              |1   |\n",
            "|[mgn63id, garansi, gb, 2020, m1]                          |1   |\n",
            "|[mgn63id, garansi, gb, 2020, m1, macbook]                 |1   |\n",
            "|[mgn63id, garansi, gb, 2020, m1, macbook, air]            |1   |\n",
            "|[mgn63id, garansi, gb, 2020, m1, air]                     |1   |\n",
            "|[mgn63id, garansi, gb, 2020, macbook]                     |1   |\n",
            "|[mgn63id, garansi, gb, 2020, macbook, air]                |1   |\n",
            "|[mgn63id, garansi, gb, 2020, air]                         |1   |\n",
            "|[mgn63id, garansi, gb, air]                               |1   |\n",
            "|[mgn63id, garansi, m1]                                    |1   |\n",
            "|[mgn63id, garansi, m1, macbook]                           |1   |\n",
            "|[mgn63id, garansi, m1, macbook, air]                      |1   |\n",
            "|[mgn63id, garansi, m1, air]                               |1   |\n",
            "|[mgn63id, garansi, apple]                                 |1   |\n",
            "|[mgn63id, garansi, apple, gb]                             |1   |\n",
            "|[mgn63id, garansi, apple, gb, m1]                         |1   |\n",
            "|[mgn63id, garansi, apple, gb, m1, macbook]                |1   |\n",
            "|[mgn63id, garansi, apple, gb, m1, macbook, air]           |1   |\n",
            "|[mgn63id, garansi, apple, gb, m1, air]                    |1   |\n",
            "|[mgn63id, garansi, apple, gb, ssd]                        |1   |\n",
            "|[mgn63id, garansi, apple, gb, ssd, m1]                    |1   |\n",
            "|[mgn63id, garansi, apple, gb, ssd, m1, macbook]           |1   |\n",
            "|[mgn63id, garansi, apple, gb, ssd, m1, macbook, air]      |1   |\n",
            "|[mgn63id, garansi, apple, gb, ssd, m1, air]               |1   |\n",
            "|[mgn63id, garansi, apple, gb, ssd, macbook]               |1   |\n",
            "|[mgn63id, garansi, apple, gb, ssd, macbook, air]          |1   |\n",
            "|[mgn63id, garansi, apple, gb, ssd, 2020]                  |1   |\n",
            "|[mgn63id, garansi, apple, gb, ssd, 2020, m1]              |1   |\n",
            "|[mgn63id, garansi, apple, gb, ssd, 2020, m1, macbook]     |1   |\n",
            "|[mgn63id, garansi, apple, gb, ssd, 2020, m1, macbook, air]|1   |\n",
            "|[mgn63id, garansi, apple, gb, ssd, 2020, m1, air]         |1   |\n",
            "|[mgn63id, garansi, apple, gb, ssd, 2020, macbook]         |1   |\n",
            "|[mgn63id, garansi, apple, gb, ssd, 2020, macbook, air]    |1   |\n",
            "|[mgn63id, garansi, apple, gb, ssd, 2020, air]             |1   |\n",
            "|[mgn63id, garansi, apple, gb, ssd, air]                   |1   |\n",
            "|[mgn63id, garansi, apple, gb, macbook]                    |1   |\n",
            "|[mgn63id, garansi, apple, gb, macbook, air]               |1   |\n",
            "|[mgn63id, garansi, apple, gb, ram]                        |1   |\n",
            "|[mgn63id, garansi, apple, gb, ram, m1]                    |1   |\n",
            "|[mgn63id, garansi, apple, gb, ram, m1, macbook]           |1   |\n",
            "|[mgn63id, garansi, apple, gb, ram, m1, macbook, air]      |1   |\n",
            "|[mgn63id, garansi, apple, gb, ram, m1, air]               |1   |\n",
            "|[mgn63id, garansi, apple, gb, ram, ssd]                   |1   |\n",
            "+----------------------------------------------------------+----+\n",
            "only showing top 100 rows\n",
            "\n"
          ]
        }
      ]
    },
    {
      "cell_type": "code",
      "source": [
        "model.associationRules.show(truncate=False)"
      ],
      "metadata": {
        "id": "ejLcnINTWPPe"
      },
      "execution_count": null,
      "outputs": []
    },
    {
      "cell_type": "code",
      "source": [
        "model.associationRules.filter(\"array_contains(antecedent, 'murah')\").show(truncate=False)"
      ],
      "metadata": {
        "id": "cmMhOUf4WSlk"
      },
      "execution_count": null,
      "outputs": []
    },
    {
      "cell_type": "code",
      "source": [
        "df_fix.write.csv('/content/output/Data_Sales_MacBook.csv', header = True)"
      ],
      "metadata": {
        "id": "Rsemzpx8wpw6"
      },
      "execution_count": null,
      "outputs": []
    }
  ]
}