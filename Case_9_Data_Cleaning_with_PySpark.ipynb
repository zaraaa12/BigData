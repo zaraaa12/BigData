{
  "nbformat": 4,
  "nbformat_minor": 0,
  "metadata": {
    "colab": {
      "provenance": [],
      "include_colab_link": true
    },
    "kernelspec": {
      "name": "python3",
      "display_name": "Python 3"
    },
    "language_info": {
      "name": "python"
    }
  },
  "cells": [
    {
      "cell_type": "markdown",
      "metadata": {
        "id": "view-in-github",
        "colab_type": "text"
      },
      "source": [
        "<a href=\"https://colab.research.google.com/github/zaraaa12/BigData/blob/main/Case_9_Data_Cleaning_with_PySpark.ipynb\" target=\"_parent\"><img src=\"https://colab.research.google.com/assets/colab-badge.svg\" alt=\"Open In Colab\"/></a>"
      ]
    },
    {
      "cell_type": "code",
      "execution_count": null,
      "metadata": {
        "colab": {
          "base_uri": "https://localhost:8080/"
        },
        "id": "TPIuJIau2Kzp",
        "outputId": "80808c70-d517-4c2e-a950-1e892b748d1d"
      },
      "outputs": [
        {
          "output_type": "stream",
          "name": "stdout",
          "text": [
            "Requirement already satisfied: pyspark in /usr/local/lib/python3.11/dist-packages (3.5.5)\n",
            "Requirement already satisfied: py4j==0.10.9.7 in /usr/local/lib/python3.11/dist-packages (from pyspark) (0.10.9.7)\n"
          ]
        }
      ],
      "source": [
        "# 1. Install PySpark\n",
        "!pip install pyspark"
      ]
    },
    {
      "cell_type": "code",
      "source": [
        "# 2. Initialize Spark Session\n",
        "from pyspark.sql import SparkSession\n",
        "from pyspark.sql.functions import col, lower, regexp_replace, to_date, when\n",
        "spark = SparkSession.builder.appName (\"DataCleaningExercise\" ).getOrCreate ()"
      ],
      "metadata": {
        "id": "kBYx0MRM3EJd"
      },
      "execution_count": null,
      "outputs": []
    },
    {
      "cell_type": "code",
      "source": [
        "# 3. Reading a CSV File\n",
        "df = spark.read.csv( '/content/dataset/data_transaksi.csv', header=True, inferSchema=True)\n",
        "df.show (100)"
      ],
      "metadata": {
        "colab": {
          "base_uri": "https://localhost:8080/"
        },
        "id": "6kUe9ZCN3l_G",
        "outputId": "63e8bcb9-9c8b-4ac3-dc02-8323a881980a"
      },
      "execution_count": null,
      "outputs": [
        {
          "output_type": "stream",
          "name": "stdout",
          "text": [
            "+----------+--------------------+-----+----------+-----------------+----------+---------------+\n",
            "|      Nama|               Email| Umur|Pendapatan|Tanggal Pembelian|    Produk|Nilai Transaksi|\n",
            "+----------+--------------------+-----+----------+-----------------+----------+---------------+\n",
            "|   Anthony|   dawnday@gmail.com| 24.0|   3553265|       01/13/1974|    Laptop|        2736049|\n",
            "|    Robert|    pbrown@gmail.com| NULL|   5525753|       03-05-2004|    Tablet|        4996241|\n",
            "|   Melissa| ethan99@clayton.com| NULL|   4911936|       28-04-1970|  Handpone|        3169456|\n",
            "|   Timothy|johnsonmegan@gmai...|200.0|3140485039|       03/09/2003|    Laptop|         506622|\n",
            "|     Kelly|keithwebster(at)e...|200.0|3833611071|       17-01-2022|   Tablett|        9969204|\n",
            "|     Jared| qwiggins@hodges.com| 69.0|   8024480|       02-01-2005|   Tablett|        3093351|\n",
            "|    Nicole|ogonzalez@hotmail...|200.0|4286346096|       08-01-2024| Handphone|        3007158|\n",
            "|     Mason|lisasmith@hotmail...| NULL|   9858877|       10/12/1994|Smartwatch|        4734266|\n",
            "|    Pamela|megancosta@yahoo.com| 39.0|4743642660|       16-08-2011|    Laptop|        8043250|\n",
            "|     Chloe|kelligonzalez@hot...| NULL|3214144288|       10-02-2008| Smartwach|        7845719|\n",
            "|    Jeanne|    elewis@gmail.com|200.0|1343883642|       17-06-2004| Handphone|        8598980|\n",
            "|      Lisa|baileyvickie@hotm...| NULL|   3359174|       08/17/1993| Headphone|        3423186|\n",
            "|      Jose|lindseycollins(at...|200.0|4718948795|       07/07/2021|Smartwatch|        6713101|\n",
            "|Jacqueline|brianwilliams@yah...| NULL|   6815157|       07/15/2000|Headphonee|        1927889|\n",
            "|   Raymond|santiagoscott(at)...|200.0|2866365700|       07/18/1993|Smartwatch|        6530558|\n",
            "|    Walter|chapmanalexander@...| NULL|   7890477|       26-02-2011|    Laptop|        4336671|\n",
            "|      Gail|    nshort@yahoo.com| NULL|   7061317|       15-07-1972| Headphone|        8679926|\n",
            "|   Monique|   hthomas@moore.com|200.0|   5478040|       06/22/1994|    Laptop|        8598229|\n",
            "|      Anna| timothy21@gmail.com|200.0|   5214212|       08-12-2013|   Tablett|        7335193|\n",
            "|      Tara| amanda77@stuart.com| 37.0|3417336527|       22-10-1989| Headphone|        6370142|\n",
            "|      Dawn|  tcabrera@gmail.com| NULL|   7719787|       10-03-1975| Handphone|        5082350|\n",
            "|    Lauren|michaelsharp@clar...| 26.0|3607884820|       11/13/2019|    Laptop|        6547810|\n",
            "|     Craig|austinbaldwin@hot...| 36.0|   3052819|       13-08-2022|Smartwatch|        8981630|\n",
            "|     Peter|fordwilliam@ellio...| 49.0|   5655666|       12/21/1981|    Laptop|        9968161|\n",
            "|     April|danny11@ruiz-mart...|200.0|4947285884|       08/31/1978|  Handpone|        6617945|\n",
            "|   Michael|   donna21@yahoo.com| NULL|1718641775|       24-02-1992| Headphone|        1105811|\n",
            "|      Mike|owensrobert@hotma...| 59.0|3741985672|       11/28/2004|    Laptop|        7711290|\n",
            "|    Teresa|smendoza@williams...| NULL|1753146262|       03-12-1996| Handphone|        5672796|\n",
            "|    Amanda|melissa50@hotmail...| 45.0|   4765981|       13-06-2014|Smartwatch|        2110772|\n",
            "|    Calvin| andre49@hotmail.com| 40.0|2575808578|       08/29/1973|Smartwatch|        2496871|\n",
            "|    Alexis|     dgray@gmail.com| NULL|3451537216|       06-07-2004|    Laptop|        6028244|\n",
            "|      Rita|osbornejulie@gmai...| 46.0|   4801131|       01/03/2009| Headphone|        4287524|\n",
            "|     Amber|angelagibson@hotm...|200.0|   9749419|       13-12-2005| Headphone|        6831668|\n",
            "|    Rachel|jjenkins@osborne....| 66.0|   6422484|       02-08-1993| Smartwach|        5974942|\n",
            "| Christine|ashley06@ruiz-ham...| NULL|   3417814|       17-03-1984| Handphone|        3559828|\n",
            "|     Sheri|arnoldbrett@selle...| 29.0|2488026821|       08/13/1975| Headphone|        3068588|\n",
            "|    Morgan|richardsonjonatho...| 68.0|1529920627|       11/10/2009|    Tablet|        7892866|\n",
            "|     David|stevenslisa@yahoo...|200.0|4807875599|       06/03/2002|    Tablet|        7168803|\n",
            "|    Walter|    sara87@gmail.com| 19.0|   9751624|       11/07/2015| Handphone|        7111386|\n",
            "|    Robert|hinessamantha@gma...|200.0|4906271009|       21-12-2000| Handphone|        3938680|\n",
            "|     James| john19(at)email.com| 42.0|3457646809|       06/10/1993| Smartwach|        3305087|\n",
            "|     David|ronaldlittle@gmai...| NULL|   5704489|       10-12-1986|  Handpone|        4855839|\n",
            "|    Miguel| jenny18@hotmail.com|200.0|3894244179|       22-10-1974|    Tablet|        2277467|\n",
            "|     Laura|   lbailey@gmail.com|200.0|   7864052|       05/01/2013|Smartwatch|        7965415|\n",
            "|   Russell|wilsonscott@shaw-...|200.0|   4234505|       11/16/1977|Smartwatch|        2841013|\n",
            "| Elizabeth|    umills@yahoo.com| NULL|3569264004|       12/07/1984|    Laptop|        7452676|\n",
            "|       Roy|    psmith@gmail.com|200.0|   7372475|       02/10/1994|Headphonee|         808089|\n",
            "|     Bryan|guerreronicolas@h...| 49.0|   6816341|       02/19/1993| Handphone|        8766162|\n",
            "|   Matthew|jessicahall@yahoo...| 32.0|3359452666|       05/22/2000| Headphone|        7317635|\n",
            "|     Lucas|loganhoward@gmail...| NULL|   9156739|       02/03/2020|Smartwatch|        1457124|\n",
            "|   Patrick|zthompson@hotmail...| 59.0|   6705425|       01-12-2023|    Laptop|        9079604|\n",
            "|   Cynthia|lonnieandrews@cis...| 49.0|   5139026|       02/10/2000|   Tablett|        2393089|\n",
            "|    Daniel|ashley01@lawrence...|200.0|1528821152|       23-12-1982| Smartwach|        6175588|\n",
            "|   Shannon|cesardoyle(at)ema...| 48.0|   7502984|       14-04-2022|Smartwatch|        8353152|\n",
            "|    Sandra|williamslaura@san...| NULL|4043685930|       20-06-2013|  Handpone|        2160812|\n",
            "|   Annette|omendez@estes-rey...|200.0|2519948005|       16-03-2003|    Laptop|        5734109|\n",
            "|    Nicole|thomasglenn@mcgee...| NULL|2112943218|       11/04/2013| Handphone|        7012470|\n",
            "|   Rebecca| linlaurie@yahoo.com| 34.0|2454478778|       10/05/1971|    Tablet|        2256555|\n",
            "|    Thomas|michelefernandez@...| 36.0|   7748933|       08/03/2005| Handphone|        2826983|\n",
            "|      Eric|younglinda@yahoo.com| NULL|   3581203|       26-02-1972|    Laptop|         650743|\n",
            "|     April|   ztodd@hotmail.com| NULL|4802733311|       28-01-1981|Smartwatch|        6744114|\n",
            "| Gabrielle|xhinton@murphy-no...|200.0|1248444734|       31-12-1972|    Tablet|        3811149|\n",
            "|     Marie|blackgeorge@gmail...|200.0|1195009287|       25-11-2002|Smartwatch|        7214956|\n",
            "|   Matthew|davidwilliams@bro...| 70.0|1185314610|       27-11-2014|  Handpone|        6017027|\n",
            "|    Debbie| allison19@yahoo.com| 41.0|4974434132|       24-04-1982|Headphonee|        7488725|\n",
            "|     Amber|michaelarmstrong@...| 41.0|   4764594|       15-12-1976| Headphone|        3312777|\n",
            "|   Madison|wilkinsjuan(at)em...|200.0|2966985661|       07/28/1974|    Laptop|        1363964|\n",
            "|  Benjamin|brittanygreen@mar...|200.0|4075982395|       17-02-1982|    Tablet|        9067792|\n",
            "|    Shelly|johngoodwin@perry...| 65.0|1503571524|       06/21/2002|  Handpone|        2021118|\n",
            "|   Roberta| brendan46@yahoo.com|200.0|   7416386|       29-03-1988| Headphone|        8769501|\n",
            "|     Linda|emily21@mcmillan.org|200.0|   6917560|       17-06-2010| Handphone|        6841653|\n",
            "|     Donna|  glennlisa@york.com|200.0|4528149018|       31-07-1997|   Tablett|        7512480|\n",
            "|     Aaron|scottjacqueline@l...| 49.0|3087774620|       08/20/1983|    Laptop|        6703858|\n",
            "|    Leslie|maysannette@gmail...|200.0|   8372468|       09/13/1981|Smartwatch|        4957082|\n",
            "|  Madeline|martinezmario@gma...|200.0|3200189219|       12/05/1979|Smartwatch|        1908029|\n",
            "|    Rachel|april12@johnson-a...| NULL|   9807127|       20-10-2008| Handphone|        9309655|\n",
            "|   Michele|beckerbrian@gmail...| NULL|1060198903|       15-05-1981|Smartwatch|        9599456|\n",
            "|     Scott|theresahardin@hot...| NULL|   6761104|       01/07/1992|  Handpone|        2968229|\n",
            "|      Paul|anthony46@rodgers...| NULL|2623589294|       10/03/1986| Smartwach|        6878071|\n",
            "|   Heather|dlandry(at)email.com| 57.0|   9980884|       01/20/1986|  Handpone|        7553960|\n",
            "|   Michael|stuartvasquez(at)...|200.0|   4972260|       21-12-2005| Handphone|        1991110|\n",
            "|   Michael|    hsmall@davis.com| NULL|   8446324|       02/10/1997| Smartwach|        5201587|\n",
            "|     Bryan|williamsanthony@y...| 65.0|2091586467|       24-12-1988| Headphone|        9385903|\n",
            "|    Daniel|   jsmith@meyer.info| 63.0|   8029197|       09/07/1988| Handphone|        3359641|\n",
            "|    Joanna|   pwalker@gmail.com| 67.0|   5748244|       11/19/2010| Handphone|        3906783|\n",
            "|    Sydney|thomaskrause@mart...| 24.0|4306503420|       02-10-2012|  Handpone|        6225011|\n",
            "|      Sean|ronald86(at)email...| 43.0|   7309258|       09/21/2020|    Laptop|        6997815|\n",
            "|     James|angela86@hernande...| 21.0|1750047896|       07/07/1970|    Laptop|        8695785|\n",
            "|    Jeremy|steelesylvia@case...| 63.0|3349757081|       14-12-1995|    Laptop|        7855360|\n",
            "|    Austin|vmcfarland@gmail.com| NULL|   6296875|       01/21/1997|  Handpone|        9674590|\n",
            "|    Angela|bmcmahon@hotmail.com| NULL|1752232152|       07/08/2024|   Tablett|        6261738|\n",
            "|Jacqueline| webbcraig@gmail.com| NULL|4703381979|       08/02/2019|Smartwatch|        1452972|\n",
            "|    Robert| jason16@hotmail.com| 31.0|   6167831|       05/31/1972| Handphone|        4166003|\n",
            "| Elizabeth|tylerfinley@yahoo...| 37.0|   9120819|       02/18/2015|  Handpone|        6390568|\n",
            "| Stephanie|flin@hicks-craig.com| NULL|4214307534|       21-10-1974|Headphonee|        5047580|\n",
            "|  Michelle|      jcox@yahoo.com|200.0|4713277993|       10/14/1979|  Handpone|        2693153|\n",
            "|   Christy|courtneybrown(at)...| NULL|   6287329|       02/03/2019| Headphone|        7335789|\n",
            "|   Anthony|     ulee@grant.info| NULL|4295054984|       07/25/1992|    Laptop|        5530638|\n",
            "|     Bobby|isimpson@brown-se...| 69.0|3154243087|       02/17/1997|    Tablet|        8673469|\n",
            "|     Linda|dianagentry@gmail...| NULL|   4695914|       10/24/2001|    Tablet|        8250750|\n",
            "+----------+--------------------+-----+----------+-----------------+----------+---------------+\n",
            "\n"
          ]
        }
      ]
    },
    {
      "cell_type": "code",
      "source": [
        "# 4. Exploring Data\n",
        "df.printSchema ()           # Column Structure\n",
        "df.describe ( ).show ()     # Numerical Statistics\n",
        "df.columns                  # List of Columns"
      ],
      "metadata": {
        "colab": {
          "base_uri": "https://localhost:8080/"
        },
        "id": "x62yAjIc4ILr",
        "outputId": "3ed722ce-7efa-4df2-af03-4347539a18b4"
      },
      "execution_count": null,
      "outputs": [
        {
          "output_type": "stream",
          "name": "stdout",
          "text": [
            "root\n",
            " |-- Nama: string (nullable = true)\n",
            " |-- Email: string (nullable = true)\n",
            " |-- Umur: double (nullable = true)\n",
            " |-- Pendapatan: long (nullable = true)\n",
            " |-- Tanggal Pembelian: string (nullable = true)\n",
            " |-- Produk: string (nullable = true)\n",
            " |-- Nilai Transaksi: integer (nullable = true)\n",
            "\n",
            "+-------+------+-------------------+------------------+--------------------+-----------------+---------+------------------+\n",
            "|summary|  Nama|              Email|              Umur|          Pendapatan|Tanggal Pembelian|   Produk|   Nilai Transaksi|\n",
            "+-------+------+-------------------+------------------+--------------------+-----------------+---------+------------------+\n",
            "|  count|   100|                100|                68|                 100|              100|      100|               100|\n",
            "|   mean|  NULL|               NULL|111.86764705882354|     1.65132351882E9|             NULL|     NULL|        5556026.09|\n",
            "| stddev|  NULL|               NULL| 77.42110175763524|1.8103144429023266E9|             NULL|     NULL|2594395.9001886775|\n",
            "|    min| Aaron|allison19@yahoo.com|              19.0|             3052819|       01-12-2023|Handphone|            506622|\n",
            "|    max|Walter|  ztodd@hotmail.com|             200.0|          4974434132|       31-12-1972|  Tablett|           9969204|\n",
            "+-------+------+-------------------+------------------+--------------------+-----------------+---------+------------------+\n",
            "\n"
          ]
        },
        {
          "output_type": "execute_result",
          "data": {
            "text/plain": [
              "['Nama',\n",
              " 'Email',\n",
              " 'Umur',\n",
              " 'Pendapatan',\n",
              " 'Tanggal Pembelian',\n",
              " 'Produk',\n",
              " 'Nilai Transaksi']"
            ]
          },
          "metadata": {},
          "execution_count": 4
        }
      ]
    },
    {
      "cell_type": "code",
      "source": [
        "# 5. Delete Duplicate Rows\n",
        "df_clean = df.dropDuplicates()\n",
        "\n",
        "# 6. Delete Rows with Empty Values in the Important Column\n",
        "df_clean = df_clean.na.drop(subset=[\"Nama\", \"Email\"])\n",
        "\n",
        "# 7. Filling Missing Value\n",
        "df_clean = df_clean.fillna({'Umur': 0})"
      ],
      "metadata": {
        "id": "5SLfoXW_7uEC"
      },
      "execution_count": null,
      "outputs": []
    },
    {
      "cell_type": "code",
      "source": [
        "# 8. Standardize Text Formatting: ‘Nama’ Field to All Lowercase Letters\n",
        "df_clean = df_clean.withColumn(\"Nama\", lower(col(\"Nama\")))"
      ],
      "metadata": {
        "id": "oX75r5zkAeAs"
      },
      "execution_count": null,
      "outputs": []
    },
    {
      "cell_type": "code",
      "source": [
        "# 9. Change the Data Type ‘Umur’ to Integer\n",
        "df_clean = df_clean.withColumn(\"Umur\", col(\"Umur\").cast(\"int\"))"
      ],
      "metadata": {
        "id": "gYQJ5gYBA2O2"
      },
      "execution_count": null,
      "outputs": []
    },
    {
      "cell_type": "code",
      "source": [
        "# 10. Correct the Spelling in the Product Column:\n",
        "#    Example: \"Tablett\" → \"Tablet\", \"Handpone\" → \"Handphone\", \"Smartwach\" → \"Smartwatch\"\n",
        "df_clean = df_clean.withColumn(\n",
        "    \"Produk\",\n",
        "    when(col(\"Produk\") == \"Tablett\", \"Tablet\")\n",
        "    .when(col(\"Produk\") == \"Handpone\", \"Handphone\")\n",
        "    .when(col(\"Produk\") == \"Smartwach\", \"Smartwatch\")\n",
        "    .otherwise(col(\"Produk\"))\n",
        ")"
      ],
      "metadata": {
        "id": "wObVASRpBqDs"
      },
      "execution_count": null,
      "outputs": []
    },
    {
      "cell_type": "code",
      "source": [
        "# 11. Date Format Standardization (Date of Purchase):\n",
        "#     Handle formats like \"dd-MM-yyyy\" and \"MM/dd/yyyy\"\n",
        "#     Detect mixed formats and convert them to yyyy-MM-dd\n",
        "df_clean = df_clean.withColumn(\n",
        "    \"Tanggal Pembelian\",\n",
        "    when(col(\"Tanggal Pembelian\").rlike(r\"\\d{2}/\\d{2}/\\d{4}\"),\n",
        "         to_date(col(\"Tanggal Pembelian\"), \"MM/dd/yyyy\"))\n",
        "    .when(col(\"Tanggal Pembelian\").rlike(r\"\\d{2}-\\d{2}-\\d{4}\"),\n",
        "         to_date(col(\"Tanggal Pembelian\"), \"dd-MM-yyyy\"))\n",
        "    .otherwise(None)\n",
        ")"
      ],
      "metadata": {
        "id": "2U5VA8-tC7aO"
      },
      "execution_count": null,
      "outputs": []
    },
    {
      "cell_type": "code",
      "source": [
        "# 12. Display the Final Result for Checking\n",
        "df_clean.show(100)"
      ],
      "metadata": {
        "colab": {
          "base_uri": "https://localhost:8080/"
        },
        "id": "8hVpHxEuEVSc",
        "outputId": "20b0f95f-8290-4ffa-a58e-f69beb5b3f94"
      },
      "execution_count": null,
      "outputs": [
        {
          "output_type": "stream",
          "name": "stdout",
          "text": [
            "+----------+--------------------+----+----------+-----------------+----------+---------------+\n",
            "|      Nama|               Email|Umur|Pendapatan|Tanggal Pembelian|    Produk|Nilai Transaksi|\n",
            "+----------+--------------------+----+----------+-----------------+----------+---------------+\n",
            "|   timothy|johnsonmegan@gmai...| 200|3140485039|       2003-03-09|    Laptop|         506622|\n",
            "|      mike|owensrobert@hotma...|  59|3741985672|       2004-11-28|    Laptop|        7711290|\n",
            "|  madeline|martinezmario@gma...| 200|3200189219|       1979-12-05|Smartwatch|        1908029|\n",
            "|   raymond|santiagoscott(at)...| 200|2866365700|       1993-07-18|Smartwatch|        6530558|\n",
            "|  benjamin|brittanygreen@mar...| 200|4075982395|       1982-02-17|    Tablet|        9067792|\n",
            "|    leslie|maysannette@gmail...| 200|   8372468|       1981-09-13|Smartwatch|        4957082|\n",
            "|   cynthia|lonnieandrews@cis...|  49|   5139026|       2000-02-10|    Tablet|        2393089|\n",
            "|    debbie| allison19@yahoo.com|  41|4974434132|       1982-04-24|Headphonee|        7488725|\n",
            "|    rachel|jjenkins@osborne....|  66|   6422484|       1993-08-02|Smartwatch|        5974942|\n",
            "|      sean|ronald86(at)email...|  43|   7309258|       2020-09-21|    Laptop|        6997815|\n",
            "|    amanda|melissa50@hotmail...|  45|   4765981|       2014-06-13|Smartwatch|        2110772|\n",
            "|    robert| jason16@hotmail.com|  31|   6167831|       1972-05-31| Handphone|        4166003|\n",
            "|       roy|    psmith@gmail.com| 200|   7372475|       1994-02-10|Headphonee|         808089|\n",
            "|     james|angela86@hernande...|  21|1750047896|       1970-07-07|    Laptop|        8695785|\n",
            "|     april|danny11@ruiz-mart...| 200|4947285884|       1978-08-31| Handphone|        6617945|\n",
            "|    robert|hinessamantha@gma...| 200|4906271009|       2000-12-21| Handphone|        3938680|\n",
            "|     aaron|scottjacqueline@l...|  49|3087774620|       1983-08-20|    Laptop|        6703858|\n",
            "|    sydney|thomaskrause@mart...|  24|4306503420|       2012-10-02| Handphone|        6225011|\n",
            "|   annette|omendez@estes-rey...| 200|2519948005|       2003-03-16|    Laptop|        5734109|\n",
            "|      jose|lindseycollins(at...| 200|4718948795|       2021-07-07|Smartwatch|        6713101|\n",
            "|    lauren|michaelsharp@clar...|  26|3607884820|       2019-11-13|    Laptop|        6547810|\n",
            "|     sheri|arnoldbrett@selle...|  29|2488026821|       1975-08-13| Headphone|        3068588|\n",
            "|    jeanne|    elewis@gmail.com| 200|1343883642|       2004-06-17| Handphone|        8598980|\n",
            "|    morgan|richardsonjonatho...|  68|1529920627|       2009-11-10|    Tablet|        7892866|\n",
            "|     craig|austinbaldwin@hot...|  36|   3052819|       2022-08-13|Smartwatch|        8981630|\n",
            "|   madison|wilkinsjuan(at)em...| 200|2966985661|       1974-07-28|    Laptop|        1363964|\n",
            "|    nicole|ogonzalez@hotmail...| 200|4286346096|       2024-01-08| Handphone|        3007158|\n",
            "|    walter|    sara87@gmail.com|  19|   9751624|       2015-11-07| Handphone|        7111386|\n",
            "|   michael|stuartvasquez(at)...| 200|   4972260|       2005-12-21| Handphone|        1991110|\n",
            "|     bryan|williamsanthony@y...|  65|2091586467|       1988-12-24| Headphone|        9385903|\n",
            "| elizabeth|tylerfinley@yahoo...|  37|   9120819|       2015-02-18| Handphone|        6390568|\n",
            "|     bobby|isimpson@brown-se...|  69|3154243087|       1997-02-17|    Tablet|        8673469|\n",
            "|     linda|emily21@mcmillan.org| 200|   6917560|       2010-06-17| Handphone|        6841653|\n",
            "|   shannon|cesardoyle(at)ema...|  48|   7502984|       2022-04-14|Smartwatch|        8353152|\n",
            "|      rita|osbornejulie@gmai...|  46|   4801131|       2009-01-03| Headphone|        4287524|\n",
            "| gabrielle|xhinton@murphy-no...| 200|1248444734|       1972-12-31|    Tablet|        3811149|\n",
            "|    pamela|megancosta@yahoo.com|  39|4743642660|       2011-08-16|    Laptop|        8043250|\n",
            "|     amber|michaelarmstrong@...|  41|   4764594|       1976-12-15| Headphone|        3312777|\n",
            "|     peter|fordwilliam@ellio...|  49|   5655666|       1981-12-21|    Laptop|        9968161|\n",
            "|   matthew|jessicahall@yahoo...|  32|3359452666|       2000-05-22| Headphone|        7317635|\n",
            "|    shelly|johngoodwin@perry...|  65|1503571524|       2002-06-21| Handphone|        2021118|\n",
            "|   roberta| brendan46@yahoo.com| 200|   7416386|       1988-03-29| Headphone|        8769501|\n",
            "|     david|stevenslisa@yahoo...| 200|4807875599|       2002-06-03|    Tablet|        7168803|\n",
            "|    daniel|   jsmith@meyer.info|  63|   8029197|       1988-09-07| Handphone|        3359641|\n",
            "|     laura|   lbailey@gmail.com| 200|   7864052|       2013-05-01|Smartwatch|        7965415|\n",
            "|    calvin| andre49@hotmail.com|  40|2575808578|       1973-08-29|Smartwatch|        2496871|\n",
            "|   monique|   hthomas@moore.com| 200|   5478040|       1994-06-22|    Laptop|        8598229|\n",
            "|     bryan|guerreronicolas@h...|  49|   6816341|       1993-02-19| Handphone|        8766162|\n",
            "|     marie|blackgeorge@gmail...| 200|1195009287|       2002-11-25|Smartwatch|        7214956|\n",
            "|   heather|dlandry(at)email.com|  57|   9980884|       1986-01-20| Handphone|        7553960|\n",
            "|   anthony|   dawnday@gmail.com|  24|   3553265|       1974-01-13|    Laptop|        2736049|\n",
            "|   rebecca| linlaurie@yahoo.com|  34|2454478778|       1971-10-05|    Tablet|        2256555|\n",
            "|     donna|  glennlisa@york.com| 200|4528149018|       1997-07-31|    Tablet|        7512480|\n",
            "|     kelly|keithwebster(at)e...| 200|3833611071|       2022-01-17|    Tablet|        9969204|\n",
            "|     james| john19(at)email.com|  42|3457646809|       1993-06-10|Smartwatch|        3305087|\n",
            "|   matthew|davidwilliams@bro...|  70|1185314610|       2014-11-27| Handphone|        6017027|\n",
            "|      anna| timothy21@gmail.com| 200|   5214212|       2013-12-08|    Tablet|        7335193|\n",
            "|      tara| amanda77@stuart.com|  37|3417336527|       1989-10-22| Headphone|        6370142|\n",
            "|   patrick|zthompson@hotmail...|  59|   6705425|       2023-12-01|    Laptop|        9079604|\n",
            "|    daniel|ashley01@lawrence...| 200|1528821152|       1982-12-23|Smartwatch|        6175588|\n",
            "|   russell|wilsonscott@shaw-...| 200|   4234505|       1977-11-16|Smartwatch|        2841013|\n",
            "|    jeremy|steelesylvia@case...|  63|3349757081|       1995-12-14|    Laptop|        7855360|\n",
            "|    thomas|michelefernandez@...|  36|   7748933|       2005-08-03| Handphone|        2826983|\n",
            "|     jared| qwiggins@hodges.com|  69|   8024480|       2005-01-02|    Tablet|        3093351|\n",
            "|    joanna|   pwalker@gmail.com|  67|   5748244|       2010-11-19| Handphone|        3906783|\n",
            "|  michelle|      jcox@yahoo.com| 200|4713277993|       1979-10-14| Handphone|        2693153|\n",
            "|     amber|angelagibson@hotm...| 200|   9749419|       2005-12-13| Headphone|        6831668|\n",
            "|    miguel| jenny18@hotmail.com| 200|3894244179|       1974-10-22|    Tablet|        2277467|\n",
            "|   michele|beckerbrian@gmail...|   0|1060198903|       1981-05-15|Smartwatch|        9599456|\n",
            "|jacqueline|brianwilliams@yah...|   0|   6815157|       2000-07-15|Headphonee|        1927889|\n",
            "|    nicole|thomasglenn@mcgee...|   0|2112943218|       2013-11-04| Handphone|        7012470|\n",
            "|     david|ronaldlittle@gmai...|   0|   5704489|       1986-12-10| Handphone|        4855839|\n",
            "|    austin|vmcfarland@gmail.com|   0|   6296875|       1997-01-21| Handphone|        9674590|\n",
            "|    rachel|april12@johnson-a...|   0|   9807127|       2008-10-20| Handphone|        9309655|\n",
            "|   michael|    hsmall@davis.com|   0|   8446324|       1997-02-10|Smartwatch|        5201587|\n",
            "|      dawn|  tcabrera@gmail.com|   0|   7719787|       1975-03-10| Handphone|        5082350|\n",
            "|      gail|    nshort@yahoo.com|   0|   7061317|       1972-07-15| Headphone|        8679926|\n",
            "|      lisa|baileyvickie@hotm...|   0|   3359174|       1993-08-17| Headphone|        3423186|\n",
            "|     chloe|kelligonzalez@hot...|   0|3214144288|       2008-02-10|Smartwatch|        7845719|\n",
            "|   christy|courtneybrown(at)...|   0|   6287329|       2019-02-03| Headphone|        7335789|\n",
            "|    alexis|     dgray@gmail.com|   0|3451537216|       2004-07-06|    Laptop|        6028244|\n",
            "|jacqueline| webbcraig@gmail.com|   0|4703381979|       2019-08-02|Smartwatch|        1452972|\n",
            "|     lucas|loganhoward@gmail...|   0|   9156739|       2020-02-03|Smartwatch|        1457124|\n",
            "|   melissa| ethan99@clayton.com|   0|   4911936|       1970-04-28| Handphone|        3169456|\n",
            "|     scott|theresahardin@hot...|   0|   6761104|       1992-01-07| Handphone|        2968229|\n",
            "|     april|   ztodd@hotmail.com|   0|4802733311|       1981-01-28|Smartwatch|        6744114|\n",
            "|   anthony|     ulee@grant.info|   0|4295054984|       1992-07-25|    Laptop|        5530638|\n",
            "|     mason|lisasmith@hotmail...|   0|   9858877|       1994-10-12|Smartwatch|        4734266|\n",
            "| stephanie|flin@hicks-craig.com|   0|4214307534|       1974-10-21|Headphonee|        5047580|\n",
            "|      paul|anthony46@rodgers...|   0|2623589294|       1986-10-03|Smartwatch|        6878071|\n",
            "|      eric|younglinda@yahoo.com|   0|   3581203|       1972-02-26|    Laptop|         650743|\n",
            "|   michael|   donna21@yahoo.com|   0|1718641775|       1992-02-24| Headphone|        1105811|\n",
            "|    sandra|williamslaura@san...|   0|4043685930|       2013-06-20| Handphone|        2160812|\n",
            "|     linda|dianagentry@gmail...|   0|   4695914|       2001-10-24|    Tablet|        8250750|\n",
            "| christine|ashley06@ruiz-ham...|   0|   3417814|       1984-03-17| Handphone|        3559828|\n",
            "| elizabeth|    umills@yahoo.com|   0|3569264004|       1984-12-07|    Laptop|        7452676|\n",
            "|    walter|chapmanalexander@...|   0|   7890477|       2011-02-26|    Laptop|        4336671|\n",
            "|    teresa|smendoza@williams...|   0|1753146262|       1996-12-03| Handphone|        5672796|\n",
            "|    robert|    pbrown@gmail.com|   0|   5525753|       2004-05-03|    Tablet|        4996241|\n",
            "|    angela|bmcmahon@hotmail.com|   0|1752232152|       2024-07-08|    Tablet|        6261738|\n",
            "+----------+--------------------+----+----------+-----------------+----------+---------------+\n",
            "\n"
          ]
        }
      ]
    },
    {
      "cell_type": "code",
      "source": [
        "# 13. Save the Clean Data Results to a New File\n",
        "df_clean.write.csv(\"/content/dataset/data_transaksi_bersih.csv\", header=True, mode='overwrite')"
      ],
      "metadata": {
        "id": "F0fSa7KZDtA3"
      },
      "execution_count": null,
      "outputs": []
    }
  ]
}